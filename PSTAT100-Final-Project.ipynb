{
 "cells": [
  {
   "cell_type": "markdown",
   "id": "66406742-2be3-4201-a717-bcc7c9a93ccb",
   "metadata": {
    "tags": []
   },
   "source": [
    "# PSTAT 100 Final Project: What affects happiness around the world?\n",
    "### By Ethan Choi and Alex Zhao"
   ]
  },
  {
   "cell_type": "markdown",
   "id": "616b23ec-d08d-4d15-9636-9b93b35402b7",
   "metadata": {},
   "source": [
    "## Data Description\n",
    "\n",
    "The data we chose to work with was the World Happiness Report 2023. This report contains the happiness level (also called life ladder score) of 165 countries around the world from years between 2005 and 2022, as well as a variety of socioeconomic factors for each country and year. [INSERT HOW DATA WAS SAMPLED HERE]. Each of the socioeconomic variables are described in the table below:"
   ]
  },
  {
   "cell_type": "markdown",
   "id": "fb7e0254-77a0-4e42-8b63-2846cc051a9b",
   "metadata": {},
   "source": [
    "Variable name | Description \n",
    "--------------|--------------\n",
    "`Life Ladder` | National average of answers to question: \"How would you rate your current life on a scale from 0-10?\" With 0 being the worst and 10 being the best. \n",
    "`Log GDP per capita` | Logarithm of GDP per capita in terms of Purchasing Power Parity adjusted to constant 2017 international dollars. \n",
    "`Social Support` | National average of answers to question: \"If you were in trouble, do you have relatives or friends you can count on to help you whenever you need them, or not?” With 0=No and 1=Yes.\n",
    "`Healthy life expectancy at birth` | Healthy life expectancy based on time series analysis of World Health Organization data (in years).\n",
    "`Freedom to make life choices` |National average of answers to question: \"Are you satisfied or dissatisfied with your freedom to choose what you do with your life??” With 0=Dissatisfied and 1=Satisfied.\n",
    "`Generosity` |Residual of regressing the national average of answers to the question “Have you donated money to a charity in the past month?” on log GDP per capita.\n",
    "`Perceptions of corruption` |National average of answers to the two questions: “Is corruption widespread throughout the government or not?” and “Is corruption widespread within businesses or not?” With 0=No and 1=Yes.\n",
    "`Positive affect` | National average of previous-day affect measures for laughter, enjoyment, and interest. Questions are asked in the form of \"Did you experience the following feelings during a lot of the day yesterday?\"\n",
    "`Negative affect` | National average of previous-day affect measures for worry, sadness, and anger. Questions are asked in the form of \"Did you experience the following feelings during a lot of the day yesterday?\""
   ]
  },
  {
   "cell_type": "markdown",
   "id": "65cd3b0c-b679-4b10-9c8f-4a32e27e4423",
   "metadata": {},
   "source": [
    "## Question of Interest\n",
    "\n",
    "Overall, our question of interest is \"Has happiness around the world improved over time and which variables affect happiness the most?\". This question interested us because we are hopeful that peoples' happiness has improved over time and wanted to provide a definitive answer. We also believe it is important to identify variables that can explain trends in different countries' happiness levels. In that way, we can discover why certain countries may be happier than others.\n",
    "\n",
    "In order to tackle this problem we first derived some overall trends in the data such as, has there been an overall improvement in happiness around the world, which country has seen the greatest improvement in happiness, and which country has been the happiest over time. We then attempted to explain these trends using principal component analysis and multiple linear regression.\n",
    "\n",
    "A satisfactory answer to our question would be showing and increase or decrease in happiness over time as well as a list of variables that explain the most variation (derived from principal component analysis), and [INSERT POSSIBLE RESULTS OF REGRESSION HERE]"
   ]
  },
  {
   "cell_type": "markdown",
   "id": "ace7a70e-3e1d-4231-9ad7-54d93f84a9c8",
   "metadata": {},
   "source": [
    "## Data Analysis\n",
    "### Exploratory data analysis"
   ]
  },
  {
   "cell_type": "code",
   "execution_count": 1,
   "id": "8097869f-c50f-4aea-abab-d4068722b629",
   "metadata": {
    "tags": []
   },
   "outputs": [
    {
     "data": {
      "text/plain": [
       "DataTransformerRegistry.enable('default')"
      ]
     },
     "execution_count": 1,
     "metadata": {},
     "output_type": "execute_result"
    }
   ],
   "source": [
    "import numpy as np\n",
    "import pandas as pd\n",
    "import altair as alt\n",
    "from scipy import linalg\n",
    "from statsmodels.multivariate.pca import PCA\n",
    "# disable row limit for plotting\n",
    "alt.data_transformers.disable_max_rows()\n",
    "# uncomment to ensure graphics display with pdf export\n",
    "# alt.renderers.enable('mimetype')"
   ]
  },
  {
   "cell_type": "code",
   "execution_count": 2,
   "id": "b9799486-3377-46c5-8483-91d55cfe9f87",
   "metadata": {
    "tags": []
   },
   "outputs": [
    {
     "data": {
      "text/html": [
       "<div>\n",
       "<style scoped>\n",
       "    .dataframe tbody tr th:only-of-type {\n",
       "        vertical-align: middle;\n",
       "    }\n",
       "\n",
       "    .dataframe tbody tr th {\n",
       "        vertical-align: top;\n",
       "    }\n",
       "\n",
       "    .dataframe thead th {\n",
       "        text-align: right;\n",
       "    }\n",
       "</style>\n",
       "<table border=\"1\" class=\"dataframe\">\n",
       "  <thead>\n",
       "    <tr style=\"text-align: right;\">\n",
       "      <th></th>\n",
       "      <th>Country name</th>\n",
       "      <th>year</th>\n",
       "      <th>Life Ladder</th>\n",
       "      <th>Log GDP per capita</th>\n",
       "      <th>Social support</th>\n",
       "      <th>Healthy life expectancy at birth</th>\n",
       "      <th>Freedom to make life choices</th>\n",
       "      <th>Generosity</th>\n",
       "      <th>Perceptions of corruption</th>\n",
       "      <th>Positive affect</th>\n",
       "      <th>Negative affect</th>\n",
       "    </tr>\n",
       "  </thead>\n",
       "  <tbody>\n",
       "    <tr>\n",
       "      <th>0</th>\n",
       "      <td>Afghanistan</td>\n",
       "      <td>2008</td>\n",
       "      <td>3.724</td>\n",
       "      <td>7.350</td>\n",
       "      <td>0.451</td>\n",
       "      <td>50.5</td>\n",
       "      <td>0.718</td>\n",
       "      <td>0.168</td>\n",
       "      <td>0.882</td>\n",
       "      <td>0.414</td>\n",
       "      <td>0.258</td>\n",
       "    </tr>\n",
       "    <tr>\n",
       "      <th>1</th>\n",
       "      <td>Afghanistan</td>\n",
       "      <td>2009</td>\n",
       "      <td>4.402</td>\n",
       "      <td>7.509</td>\n",
       "      <td>0.552</td>\n",
       "      <td>50.8</td>\n",
       "      <td>0.679</td>\n",
       "      <td>0.191</td>\n",
       "      <td>0.850</td>\n",
       "      <td>0.481</td>\n",
       "      <td>0.237</td>\n",
       "    </tr>\n",
       "    <tr>\n",
       "      <th>2</th>\n",
       "      <td>Afghanistan</td>\n",
       "      <td>2010</td>\n",
       "      <td>4.758</td>\n",
       "      <td>7.614</td>\n",
       "      <td>0.539</td>\n",
       "      <td>51.1</td>\n",
       "      <td>0.600</td>\n",
       "      <td>0.121</td>\n",
       "      <td>0.707</td>\n",
       "      <td>0.517</td>\n",
       "      <td>0.275</td>\n",
       "    </tr>\n",
       "    <tr>\n",
       "      <th>3</th>\n",
       "      <td>Afghanistan</td>\n",
       "      <td>2011</td>\n",
       "      <td>3.832</td>\n",
       "      <td>7.581</td>\n",
       "      <td>0.521</td>\n",
       "      <td>51.4</td>\n",
       "      <td>0.496</td>\n",
       "      <td>0.164</td>\n",
       "      <td>0.731</td>\n",
       "      <td>0.480</td>\n",
       "      <td>0.267</td>\n",
       "    </tr>\n",
       "    <tr>\n",
       "      <th>4</th>\n",
       "      <td>Afghanistan</td>\n",
       "      <td>2012</td>\n",
       "      <td>3.783</td>\n",
       "      <td>7.661</td>\n",
       "      <td>0.521</td>\n",
       "      <td>51.7</td>\n",
       "      <td>0.531</td>\n",
       "      <td>0.238</td>\n",
       "      <td>0.776</td>\n",
       "      <td>0.614</td>\n",
       "      <td>0.268</td>\n",
       "    </tr>\n",
       "  </tbody>\n",
       "</table>\n",
       "</div>"
      ],
      "text/plain": [
       "  Country name  year  Life Ladder  Log GDP per capita  Social support  \\\n",
       "0  Afghanistan  2008        3.724               7.350           0.451   \n",
       "1  Afghanistan  2009        4.402               7.509           0.552   \n",
       "2  Afghanistan  2010        4.758               7.614           0.539   \n",
       "3  Afghanistan  2011        3.832               7.581           0.521   \n",
       "4  Afghanistan  2012        3.783               7.661           0.521   \n",
       "\n",
       "   Healthy life expectancy at birth  Freedom to make life choices  Generosity  \\\n",
       "0                              50.5                         0.718       0.168   \n",
       "1                              50.8                         0.679       0.191   \n",
       "2                              51.1                         0.600       0.121   \n",
       "3                              51.4                         0.496       0.164   \n",
       "4                              51.7                         0.531       0.238   \n",
       "\n",
       "   Perceptions of corruption  Positive affect  Negative affect  \n",
       "0                      0.882            0.414            0.258  \n",
       "1                      0.850            0.481            0.237  \n",
       "2                      0.707            0.517            0.275  \n",
       "3                      0.731            0.480            0.267  \n",
       "4                      0.776            0.614            0.268  "
      ]
     },
     "execution_count": 2,
     "metadata": {},
     "output_type": "execute_result"
    }
   ],
   "source": [
    "# import tidy world happiness data\n",
    "happiness = pd.read_csv('data/whr-2023.csv')\n",
    "happiness.head()"
   ]
  },
  {
   "cell_type": "code",
   "execution_count": 3,
   "id": "90a3e906-a6a4-496a-8848-22ce884f039d",
   "metadata": {
    "tags": []
   },
   "outputs": [
    {
     "data": {
      "text/plain": [
       "(2199, 11)"
      ]
     },
     "execution_count": 3,
     "metadata": {},
     "output_type": "execute_result"
    }
   ],
   "source": [
    "# how many observations are in the data set\n",
    "happiness.shape"
   ]
  },
  {
   "cell_type": "code",
   "execution_count": 4,
   "id": "e343deda-e5a7-4bdd-b422-fcd3ef1e93ed",
   "metadata": {
    "tags": []
   },
   "outputs": [
    {
     "data": {
      "text/plain": [
       "165"
      ]
     },
     "execution_count": 4,
     "metadata": {},
     "output_type": "execute_result"
    }
   ],
   "source": [
    "# how many countries are in the data set\n",
    "happiness['Country name'].nunique()"
   ]
  },
  {
   "cell_type": "code",
   "execution_count": 5,
   "id": "4df49b37-4d5b-4ce1-a60d-0553d20b7bed",
   "metadata": {
    "tags": []
   },
   "outputs": [
    {
     "data": {
      "text/plain": [
       "array([2005, 2006, 2007, 2008, 2009, 2010, 2011, 2012, 2013, 2014, 2015,\n",
       "       2016, 2017, 2018, 2019, 2020, 2021, 2022])"
      ]
     },
     "execution_count": 5,
     "metadata": {},
     "output_type": "execute_result"
    }
   ],
   "source": [
    "# which years do the observations come from\n",
    "np.sort(happiness['year'].unique())"
   ]
  },
  {
   "cell_type": "code",
   "execution_count": 6,
   "id": "fb5f90bc-0b55-4eba-90cb-7ebae084e20d",
   "metadata": {
    "tags": []
   },
   "outputs": [
    {
     "data": {
      "text/plain": [
       "Country name                        0.000000\n",
       "year                                0.000000\n",
       "Life Ladder                         0.000000\n",
       "Log GDP per capita                  0.009095\n",
       "Social support                      0.005912\n",
       "Healthy life expectancy at birth    0.024557\n",
       "Freedom to make life choices        0.015007\n",
       "Generosity                          0.033197\n",
       "Perceptions of corruption           0.052751\n",
       "Positive affect                     0.010914\n",
       "Negative affect                     0.007276\n",
       "dtype: float64"
      ]
     },
     "execution_count": 6,
     "metadata": {},
     "output_type": "execute_result"
    }
   ],
   "source": [
    "# how often are variable values missing\n",
    "happiness.isna().mean()"
   ]
  },
  {
   "cell_type": "markdown",
   "id": "c6d185c9-b32b-431b-807f-883ac478f093",
   "metadata": {},
   "source": [
    "Our dataset is comprised of 2199 observations, all of which were collected between 2005-2022, and 11 variables. It is important to note that this data was collected from 165 different countries, but not all 165 of those countries participated in the report each year from 2005-2022. For example, we do not have an observation from Afghanistan in 2005. In terms of missing variable values though, this data set is constructed quite well as none of the variables are missing over 6% of the time."
   ]
  },
  {
   "cell_type": "code",
   "execution_count": 7,
   "id": "dedbf755-5a9d-4b4f-8fdb-841e4e0979a8",
   "metadata": {
    "tags": []
   },
   "outputs": [
    {
     "data": {
      "text/html": [
       "<div>\n",
       "<style scoped>\n",
       "    .dataframe tbody tr th:only-of-type {\n",
       "        vertical-align: middle;\n",
       "    }\n",
       "\n",
       "    .dataframe tbody tr th {\n",
       "        vertical-align: top;\n",
       "    }\n",
       "\n",
       "    .dataframe thead th {\n",
       "        text-align: right;\n",
       "    }\n",
       "</style>\n",
       "<table border=\"1\" class=\"dataframe\">\n",
       "  <thead>\n",
       "    <tr style=\"text-align: right;\">\n",
       "      <th></th>\n",
       "      <th>mean</th>\n",
       "      <th>std</th>\n",
       "    </tr>\n",
       "  </thead>\n",
       "  <tbody>\n",
       "    <tr>\n",
       "      <th>Life Ladder</th>\n",
       "      <td>5.479227</td>\n",
       "      <td>1.125527</td>\n",
       "    </tr>\n",
       "    <tr>\n",
       "      <th>Log GDP per capita</th>\n",
       "      <td>9.389760</td>\n",
       "      <td>1.153402</td>\n",
       "    </tr>\n",
       "    <tr>\n",
       "      <th>Social support</th>\n",
       "      <td>0.810681</td>\n",
       "      <td>0.120953</td>\n",
       "    </tr>\n",
       "    <tr>\n",
       "      <th>Healthy life expectancy at birth</th>\n",
       "      <td>63.294582</td>\n",
       "      <td>6.901104</td>\n",
       "    </tr>\n",
       "    <tr>\n",
       "      <th>Freedom to make life choices</th>\n",
       "      <td>0.747847</td>\n",
       "      <td>0.140137</td>\n",
       "    </tr>\n",
       "    <tr>\n",
       "      <th>Generosity</th>\n",
       "      <td>0.000091</td>\n",
       "      <td>0.161079</td>\n",
       "    </tr>\n",
       "    <tr>\n",
       "      <th>Perceptions of corruption</th>\n",
       "      <td>0.745208</td>\n",
       "      <td>0.185835</td>\n",
       "    </tr>\n",
       "    <tr>\n",
       "      <th>Positive affect</th>\n",
       "      <td>0.652148</td>\n",
       "      <td>0.105913</td>\n",
       "    </tr>\n",
       "    <tr>\n",
       "      <th>Negative affect</th>\n",
       "      <td>0.271493</td>\n",
       "      <td>0.086872</td>\n",
       "    </tr>\n",
       "  </tbody>\n",
       "</table>\n",
       "</div>"
      ],
      "text/plain": [
       "                                       mean       std\n",
       "Life Ladder                        5.479227  1.125527\n",
       "Log GDP per capita                 9.389760  1.153402\n",
       "Social support                     0.810681  0.120953\n",
       "Healthy life expectancy at birth  63.294582  6.901104\n",
       "Freedom to make life choices       0.747847  0.140137\n",
       "Generosity                         0.000091  0.161079\n",
       "Perceptions of corruption          0.745208  0.185835\n",
       "Positive affect                    0.652148  0.105913\n",
       "Negative affect                    0.271493  0.086872"
      ]
     },
     "execution_count": 7,
     "metadata": {},
     "output_type": "execute_result"
    }
   ],
   "source": [
    "# summary statistics\n",
    "happiness_summary = happiness.drop(columns = ['Country name', 'year']).aggregate(['mean','std']).transpose()\n",
    "\n",
    "# print the dataframe\n",
    "happiness_summary"
   ]
  },
  {
   "cell_type": "markdown",
   "id": "723c01e6-7f14-43b7-818a-a412b4a94a16",
   "metadata": {},
   "source": [
    "The above summary statistics provide us with a good baseline for comparing countries' happiness levels and the factors that affect those levels. For example, if a country has a life ladder score greater than 5.48 we know that that country is happier than the average country."
   ]
  },
  {
   "cell_type": "markdown",
   "id": "ec802c7a-3e7f-4a15-b3be-778d67a9147c",
   "metadata": {},
   "source": [
    "### Has happiness around the world improved over time?"
   ]
  },
  {
   "cell_type": "code",
   "execution_count": 8,
   "id": "5c21c2aa-1a30-4bb2-9dfa-0127a0aa4a4a",
   "metadata": {
    "tags": []
   },
   "outputs": [
    {
     "data": {
      "text/html": [
       "<div>\n",
       "<style scoped>\n",
       "    .dataframe tbody tr th:only-of-type {\n",
       "        vertical-align: middle;\n",
       "    }\n",
       "\n",
       "    .dataframe tbody tr th {\n",
       "        vertical-align: top;\n",
       "    }\n",
       "\n",
       "    .dataframe thead th {\n",
       "        text-align: right;\n",
       "    }\n",
       "</style>\n",
       "<table border=\"1\" class=\"dataframe\">\n",
       "  <thead>\n",
       "    <tr style=\"text-align: right;\">\n",
       "      <th></th>\n",
       "      <th>year</th>\n",
       "      <th>Life Ladder</th>\n",
       "    </tr>\n",
       "  </thead>\n",
       "  <tbody>\n",
       "    <tr>\n",
       "      <th>0</th>\n",
       "      <td>2005</td>\n",
       "      <td>6.446259</td>\n",
       "    </tr>\n",
       "    <tr>\n",
       "      <th>1</th>\n",
       "      <td>2006</td>\n",
       "      <td>5.196899</td>\n",
       "    </tr>\n",
       "    <tr>\n",
       "      <th>2</th>\n",
       "      <td>2007</td>\n",
       "      <td>5.418275</td>\n",
       "    </tr>\n",
       "    <tr>\n",
       "      <th>3</th>\n",
       "      <td>2008</td>\n",
       "      <td>5.418509</td>\n",
       "    </tr>\n",
       "    <tr>\n",
       "      <th>4</th>\n",
       "      <td>2009</td>\n",
       "      <td>5.457667</td>\n",
       "    </tr>\n",
       "    <tr>\n",
       "      <th>5</th>\n",
       "      <td>2010</td>\n",
       "      <td>5.496806</td>\n",
       "    </tr>\n",
       "    <tr>\n",
       "      <th>6</th>\n",
       "      <td>2011</td>\n",
       "      <td>5.424082</td>\n",
       "    </tr>\n",
       "    <tr>\n",
       "      <th>7</th>\n",
       "      <td>2012</td>\n",
       "      <td>5.443617</td>\n",
       "    </tr>\n",
       "    <tr>\n",
       "      <th>8</th>\n",
       "      <td>2013</td>\n",
       "      <td>5.393294</td>\n",
       "    </tr>\n",
       "    <tr>\n",
       "      <th>9</th>\n",
       "      <td>2014</td>\n",
       "      <td>5.386264</td>\n",
       "    </tr>\n",
       "    <tr>\n",
       "      <th>10</th>\n",
       "      <td>2015</td>\n",
       "      <td>5.400944</td>\n",
       "    </tr>\n",
       "    <tr>\n",
       "      <th>11</th>\n",
       "      <td>2016</td>\n",
       "      <td>5.396447</td>\n",
       "    </tr>\n",
       "    <tr>\n",
       "      <th>12</th>\n",
       "      <td>2017</td>\n",
       "      <td>5.460408</td>\n",
       "    </tr>\n",
       "    <tr>\n",
       "      <th>13</th>\n",
       "      <td>2018</td>\n",
       "      <td>5.498674</td>\n",
       "    </tr>\n",
       "    <tr>\n",
       "      <th>14</th>\n",
       "      <td>2019</td>\n",
       "      <td>5.570965</td>\n",
       "    </tr>\n",
       "    <tr>\n",
       "      <th>15</th>\n",
       "      <td>2020</td>\n",
       "      <td>5.727517</td>\n",
       "    </tr>\n",
       "    <tr>\n",
       "      <th>16</th>\n",
       "      <td>2021</td>\n",
       "      <td>5.636246</td>\n",
       "    </tr>\n",
       "    <tr>\n",
       "      <th>17</th>\n",
       "      <td>2022</td>\n",
       "      <td>5.585140</td>\n",
       "    </tr>\n",
       "  </tbody>\n",
       "</table>\n",
       "</div>"
      ],
      "text/plain": [
       "    year  Life Ladder\n",
       "0   2005     6.446259\n",
       "1   2006     5.196899\n",
       "2   2007     5.418275\n",
       "3   2008     5.418509\n",
       "4   2009     5.457667\n",
       "5   2010     5.496806\n",
       "6   2011     5.424082\n",
       "7   2012     5.443617\n",
       "8   2013     5.393294\n",
       "9   2014     5.386264\n",
       "10  2015     5.400944\n",
       "11  2016     5.396447\n",
       "12  2017     5.460408\n",
       "13  2018     5.498674\n",
       "14  2019     5.570965\n",
       "15  2020     5.727517\n",
       "16  2021     5.636246\n",
       "17  2022     5.585140"
      ]
     },
     "execution_count": 8,
     "metadata": {},
     "output_type": "execute_result"
    }
   ],
   "source": [
    "# Average life ladder score across all countries each year from 2005-2022\n",
    "happiness_byyear = happiness.iloc[:,[1,2]].groupby('year').mean().reset_index()\n",
    "happiness_byyear"
   ]
  },
  {
   "cell_type": "code",
   "execution_count": 9,
   "id": "73a1c847-9bc4-4f2f-913f-d997e7d84e93",
   "metadata": {
    "tags": []
   },
   "outputs": [
    {
     "data": {
      "text/html": [
       "\n",
       "<style>\n",
       "  #altair-viz-d2ef9b5f96744e89bd8c5841c9a6b300.vega-embed {\n",
       "    width: 100%;\n",
       "    display: flex;\n",
       "  }\n",
       "\n",
       "  #altair-viz-d2ef9b5f96744e89bd8c5841c9a6b300.vega-embed details,\n",
       "  #altair-viz-d2ef9b5f96744e89bd8c5841c9a6b300.vega-embed details summary {\n",
       "    position: relative;\n",
       "  }\n",
       "</style>\n",
       "<div id=\"altair-viz-d2ef9b5f96744e89bd8c5841c9a6b300\"></div>\n",
       "<script type=\"text/javascript\">\n",
       "  var VEGA_DEBUG = (typeof VEGA_DEBUG == \"undefined\") ? {} : VEGA_DEBUG;\n",
       "  (function(spec, embedOpt){\n",
       "    let outputDiv = document.currentScript.previousElementSibling;\n",
       "    if (outputDiv.id !== \"altair-viz-d2ef9b5f96744e89bd8c5841c9a6b300\") {\n",
       "      outputDiv = document.getElementById(\"altair-viz-d2ef9b5f96744e89bd8c5841c9a6b300\");\n",
       "    }\n",
       "    const paths = {\n",
       "      \"vega\": \"https://cdn.jsdelivr.net/npm/vega@5?noext\",\n",
       "      \"vega-lib\": \"https://cdn.jsdelivr.net/npm/vega-lib?noext\",\n",
       "      \"vega-lite\": \"https://cdn.jsdelivr.net/npm/vega-lite@5.8.0?noext\",\n",
       "      \"vega-embed\": \"https://cdn.jsdelivr.net/npm/vega-embed@6?noext\",\n",
       "    };\n",
       "\n",
       "    function maybeLoadScript(lib, version) {\n",
       "      var key = `${lib.replace(\"-\", \"\")}_version`;\n",
       "      return (VEGA_DEBUG[key] == version) ?\n",
       "        Promise.resolve(paths[lib]) :\n",
       "        new Promise(function(resolve, reject) {\n",
       "          var s = document.createElement('script');\n",
       "          document.getElementsByTagName(\"head\")[0].appendChild(s);\n",
       "          s.async = true;\n",
       "          s.onload = () => {\n",
       "            VEGA_DEBUG[key] = version;\n",
       "            return resolve(paths[lib]);\n",
       "          };\n",
       "          s.onerror = () => reject(`Error loading script: ${paths[lib]}`);\n",
       "          s.src = paths[lib];\n",
       "        });\n",
       "    }\n",
       "\n",
       "    function showError(err) {\n",
       "      outputDiv.innerHTML = `<div class=\"error\" style=\"color:red;\">${err}</div>`;\n",
       "      throw err;\n",
       "    }\n",
       "\n",
       "    function displayChart(vegaEmbed) {\n",
       "      vegaEmbed(outputDiv, spec, embedOpt)\n",
       "        .catch(err => showError(`Javascript Error: ${err.message}<br>This usually means there's a typo in your chart specification. See the javascript console for the full traceback.`));\n",
       "    }\n",
       "\n",
       "    if(typeof define === \"function\" && define.amd) {\n",
       "      requirejs.config({paths});\n",
       "      require([\"vega-embed\"], displayChart, err => showError(`Error loading script: ${err.message}`));\n",
       "    } else {\n",
       "      maybeLoadScript(\"vega\", \"5\")\n",
       "        .then(() => maybeLoadScript(\"vega-lite\", \"5.8.0\"))\n",
       "        .then(() => maybeLoadScript(\"vega-embed\", \"6\"))\n",
       "        .catch(showError)\n",
       "        .then(() => displayChart(vegaEmbed));\n",
       "    }\n",
       "  })({\"config\": {\"view\": {\"continuousWidth\": 300, \"continuousHeight\": 300}}, \"data\": {\"name\": \"data-55ded13c9daceb6ef752f9f83168b9ec\"}, \"mark\": {\"type\": \"line\", \"point\": true}, \"encoding\": {\"x\": {\"field\": \"year\", \"type\": \"nominal\"}, \"y\": {\"field\": \"Life Ladder\", \"scale\": {\"domain\": [5, 7]}, \"type\": \"quantitative\"}}, \"title\": \"Average Happiness Around the World Over Time (2005-2022)\", \"$schema\": \"https://vega.github.io/schema/vega-lite/v5.8.0.json\", \"datasets\": {\"data-55ded13c9daceb6ef752f9f83168b9ec\": [{\"year\": 2005, \"Life Ladder\": 6.44625925925926}, {\"year\": 2006, \"Life Ladder\": 5.196898876404495}, {\"year\": 2007, \"Life Ladder\": 5.418274509803921}, {\"year\": 2008, \"Life Ladder\": 5.41850909090909}, {\"year\": 2009, \"Life Ladder\": 5.457666666666666}, {\"year\": 2010, \"Life Ladder\": 5.496806451612904}, {\"year\": 2011, \"Life Ladder\": 5.424082191780823}, {\"year\": 2012, \"Life Ladder\": 5.443617021276595}, {\"year\": 2013, \"Life Ladder\": 5.393294117647059}, {\"year\": 2014, \"Life Ladder\": 5.386263888888888}, {\"year\": 2015, \"Life Ladder\": 5.400943661971831}, {\"year\": 2016, \"Life Ladder\": 5.396446808510638}, {\"year\": 2017, \"Life Ladder\": 5.460408163265305}, {\"year\": 2018, \"Life Ladder\": 5.498673758865248}, {\"year\": 2019, \"Life Ladder\": 5.5709650349650355}, {\"year\": 2020, \"Life Ladder\": 5.727517241379311}, {\"year\": 2021, \"Life Ladder\": 5.636245901639344}, {\"year\": 2022, \"Life Ladder\": 5.585140350877193}]}}, {\"mode\": \"vega-lite\"});\n",
       "</script>"
      ],
      "text/plain": [
       "alt.Chart(...)"
      ]
     },
     "execution_count": 9,
     "metadata": {},
     "output_type": "execute_result"
    }
   ],
   "source": [
    "# Plot of above dataframe\n",
    "alt.Chart(happiness_byyear).mark_line(point=True).encode(\n",
    "    x = 'year:N',\n",
    "    y = alt.Y('Life Ladder', scale=alt.Scale(domain=[5,7]))).properties(\n",
    "    title = 'Average Happiness Around the World Over Time (2005-2022)')"
   ]
  },
  {
   "cell_type": "markdown",
   "id": "214e4797-f1eb-4e44-85de-1e5e4dc7d670",
   "metadata": {},
   "source": [
    "The ladder score in 2005 (6.45) appears to be an outlier, therefore we checked the sample size of countries used to obtain this score."
   ]
  },
  {
   "cell_type": "code",
   "execution_count": 10,
   "id": "12e840f9-19b5-4639-ac97-061f7a55252f",
   "metadata": {
    "tags": []
   },
   "outputs": [
    {
     "data": {
      "text/plain": [
       "27"
      ]
     },
     "execution_count": 10,
     "metadata": {},
     "output_type": "execute_result"
    }
   ],
   "source": [
    "# Number of countries surveryed in 2005\n",
    "len(happiness[happiness['year']==2005])"
   ]
  },
  {
   "cell_type": "markdown",
   "id": "5f08d3f9-62f9-4406-ad5f-ad21154facad",
   "metadata": {},
   "source": [
    "Only 27 countries out of the 165 total countries that appeared in this report had happiness data from 2005. This led us to look at the number of countries surveyed each year."
   ]
  },
  {
   "cell_type": "code",
   "execution_count": 11,
   "id": "5283406b-8fc8-402e-badb-03636f1cbf34",
   "metadata": {
    "tags": []
   },
   "outputs": [
    {
     "data": {
      "text/html": [
       "<div>\n",
       "<style scoped>\n",
       "    .dataframe tbody tr th:only-of-type {\n",
       "        vertical-align: middle;\n",
       "    }\n",
       "\n",
       "    .dataframe tbody tr th {\n",
       "        vertical-align: top;\n",
       "    }\n",
       "\n",
       "    .dataframe thead th {\n",
       "        text-align: right;\n",
       "    }\n",
       "</style>\n",
       "<table border=\"1\" class=\"dataframe\">\n",
       "  <thead>\n",
       "    <tr style=\"text-align: right;\">\n",
       "      <th></th>\n",
       "      <th>Year</th>\n",
       "      <th>Number of Countries Surveyed</th>\n",
       "      <th>Proportion of Total Countries</th>\n",
       "    </tr>\n",
       "  </thead>\n",
       "  <tbody>\n",
       "    <tr>\n",
       "      <th>0</th>\n",
       "      <td>2005</td>\n",
       "      <td>27</td>\n",
       "      <td>0.163636</td>\n",
       "    </tr>\n",
       "    <tr>\n",
       "      <th>1</th>\n",
       "      <td>2006</td>\n",
       "      <td>89</td>\n",
       "      <td>0.539394</td>\n",
       "    </tr>\n",
       "    <tr>\n",
       "      <th>2</th>\n",
       "      <td>2007</td>\n",
       "      <td>102</td>\n",
       "      <td>0.618182</td>\n",
       "    </tr>\n",
       "    <tr>\n",
       "      <th>3</th>\n",
       "      <td>2008</td>\n",
       "      <td>110</td>\n",
       "      <td>0.666667</td>\n",
       "    </tr>\n",
       "    <tr>\n",
       "      <th>4</th>\n",
       "      <td>2009</td>\n",
       "      <td>114</td>\n",
       "      <td>0.690909</td>\n",
       "    </tr>\n",
       "    <tr>\n",
       "      <th>5</th>\n",
       "      <td>2010</td>\n",
       "      <td>124</td>\n",
       "      <td>0.751515</td>\n",
       "    </tr>\n",
       "    <tr>\n",
       "      <th>6</th>\n",
       "      <td>2011</td>\n",
       "      <td>146</td>\n",
       "      <td>0.884848</td>\n",
       "    </tr>\n",
       "    <tr>\n",
       "      <th>7</th>\n",
       "      <td>2012</td>\n",
       "      <td>141</td>\n",
       "      <td>0.854545</td>\n",
       "    </tr>\n",
       "    <tr>\n",
       "      <th>8</th>\n",
       "      <td>2013</td>\n",
       "      <td>136</td>\n",
       "      <td>0.824242</td>\n",
       "    </tr>\n",
       "    <tr>\n",
       "      <th>9</th>\n",
       "      <td>2014</td>\n",
       "      <td>144</td>\n",
       "      <td>0.872727</td>\n",
       "    </tr>\n",
       "    <tr>\n",
       "      <th>10</th>\n",
       "      <td>2015</td>\n",
       "      <td>142</td>\n",
       "      <td>0.860606</td>\n",
       "    </tr>\n",
       "    <tr>\n",
       "      <th>11</th>\n",
       "      <td>2016</td>\n",
       "      <td>141</td>\n",
       "      <td>0.854545</td>\n",
       "    </tr>\n",
       "    <tr>\n",
       "      <th>12</th>\n",
       "      <td>2017</td>\n",
       "      <td>147</td>\n",
       "      <td>0.890909</td>\n",
       "    </tr>\n",
       "    <tr>\n",
       "      <th>13</th>\n",
       "      <td>2018</td>\n",
       "      <td>141</td>\n",
       "      <td>0.854545</td>\n",
       "    </tr>\n",
       "    <tr>\n",
       "      <th>14</th>\n",
       "      <td>2019</td>\n",
       "      <td>143</td>\n",
       "      <td>0.866667</td>\n",
       "    </tr>\n",
       "    <tr>\n",
       "      <th>15</th>\n",
       "      <td>2020</td>\n",
       "      <td>116</td>\n",
       "      <td>0.703030</td>\n",
       "    </tr>\n",
       "    <tr>\n",
       "      <th>16</th>\n",
       "      <td>2021</td>\n",
       "      <td>122</td>\n",
       "      <td>0.739394</td>\n",
       "    </tr>\n",
       "    <tr>\n",
       "      <th>17</th>\n",
       "      <td>2022</td>\n",
       "      <td>114</td>\n",
       "      <td>0.690909</td>\n",
       "    </tr>\n",
       "  </tbody>\n",
       "</table>\n",
       "</div>"
      ],
      "text/plain": [
       "    Year  Number of Countries Surveyed  Proportion of Total Countries\n",
       "0   2005                            27                       0.163636\n",
       "1   2006                            89                       0.539394\n",
       "2   2007                           102                       0.618182\n",
       "3   2008                           110                       0.666667\n",
       "4   2009                           114                       0.690909\n",
       "5   2010                           124                       0.751515\n",
       "6   2011                           146                       0.884848\n",
       "7   2012                           141                       0.854545\n",
       "8   2013                           136                       0.824242\n",
       "9   2014                           144                       0.872727\n",
       "10  2015                           142                       0.860606\n",
       "11  2016                           141                       0.854545\n",
       "12  2017                           147                       0.890909\n",
       "13  2018                           141                       0.854545\n",
       "14  2019                           143                       0.866667\n",
       "15  2020                           116                       0.703030\n",
       "16  2021                           122                       0.739394\n",
       "17  2022                           114                       0.690909"
      ]
     },
     "execution_count": 11,
     "metadata": {},
     "output_type": "execute_result"
    }
   ],
   "source": [
    "# Checking amount of countries surveyed each year\n",
    "results = []\n",
    "\n",
    "for year in range(2005, 2023):\n",
    "    result_tuple = (year, len(happiness[happiness['year'] == year]))\n",
    "    results.append(result_tuple)\n",
    "\n",
    "df = pd.DataFrame(results, columns=['Year', 'Number of Countries Surveyed'] )\n",
    "\n",
    "# Display the resulting DataFrame.\n",
    "df['Proportion of Total Countries'] = df['Number of Countries Surveyed']/165\n",
    "df"
   ]
  },
  {
   "cell_type": "markdown",
   "id": "1bd4c4db-5824-41ce-afd1-4b4d38894ace",
   "metadata": {},
   "source": [
    "2005 is the only year in which less than 50% of the 165 total countries in the report, were surveyed. Since only about 16% of these countries were surveyed in 2005, we decided to remove observations from 2005 when deciding whether or not happiness improved around the world over time. This is because we thought that data from only 27 countries was not sufficient enough to represent the entire world. So, we replotted the happiness data grouped by year, removing observations from 2005, and got the following results:"
   ]
  },
  {
   "cell_type": "code",
   "execution_count": 12,
   "id": "8a969e3c-7292-4f8f-93c2-67e354f1cd65",
   "metadata": {
    "tags": []
   },
   "outputs": [
    {
     "data": {
      "text/html": [
       "<div>\n",
       "<style scoped>\n",
       "    .dataframe tbody tr th:only-of-type {\n",
       "        vertical-align: middle;\n",
       "    }\n",
       "\n",
       "    .dataframe tbody tr th {\n",
       "        vertical-align: top;\n",
       "    }\n",
       "\n",
       "    .dataframe thead th {\n",
       "        text-align: right;\n",
       "    }\n",
       "</style>\n",
       "<table border=\"1\" class=\"dataframe\">\n",
       "  <thead>\n",
       "    <tr style=\"text-align: right;\">\n",
       "      <th></th>\n",
       "      <th>year</th>\n",
       "      <th>Life Ladder</th>\n",
       "    </tr>\n",
       "  </thead>\n",
       "  <tbody>\n",
       "    <tr>\n",
       "      <th>1</th>\n",
       "      <td>2006</td>\n",
       "      <td>5.196899</td>\n",
       "    </tr>\n",
       "    <tr>\n",
       "      <th>2</th>\n",
       "      <td>2007</td>\n",
       "      <td>5.418275</td>\n",
       "    </tr>\n",
       "    <tr>\n",
       "      <th>3</th>\n",
       "      <td>2008</td>\n",
       "      <td>5.418509</td>\n",
       "    </tr>\n",
       "    <tr>\n",
       "      <th>4</th>\n",
       "      <td>2009</td>\n",
       "      <td>5.457667</td>\n",
       "    </tr>\n",
       "    <tr>\n",
       "      <th>5</th>\n",
       "      <td>2010</td>\n",
       "      <td>5.496806</td>\n",
       "    </tr>\n",
       "    <tr>\n",
       "      <th>6</th>\n",
       "      <td>2011</td>\n",
       "      <td>5.424082</td>\n",
       "    </tr>\n",
       "    <tr>\n",
       "      <th>7</th>\n",
       "      <td>2012</td>\n",
       "      <td>5.443617</td>\n",
       "    </tr>\n",
       "    <tr>\n",
       "      <th>8</th>\n",
       "      <td>2013</td>\n",
       "      <td>5.393294</td>\n",
       "    </tr>\n",
       "    <tr>\n",
       "      <th>9</th>\n",
       "      <td>2014</td>\n",
       "      <td>5.386264</td>\n",
       "    </tr>\n",
       "    <tr>\n",
       "      <th>10</th>\n",
       "      <td>2015</td>\n",
       "      <td>5.400944</td>\n",
       "    </tr>\n",
       "    <tr>\n",
       "      <th>11</th>\n",
       "      <td>2016</td>\n",
       "      <td>5.396447</td>\n",
       "    </tr>\n",
       "    <tr>\n",
       "      <th>12</th>\n",
       "      <td>2017</td>\n",
       "      <td>5.460408</td>\n",
       "    </tr>\n",
       "    <tr>\n",
       "      <th>13</th>\n",
       "      <td>2018</td>\n",
       "      <td>5.498674</td>\n",
       "    </tr>\n",
       "    <tr>\n",
       "      <th>14</th>\n",
       "      <td>2019</td>\n",
       "      <td>5.570965</td>\n",
       "    </tr>\n",
       "    <tr>\n",
       "      <th>15</th>\n",
       "      <td>2020</td>\n",
       "      <td>5.727517</td>\n",
       "    </tr>\n",
       "    <tr>\n",
       "      <th>16</th>\n",
       "      <td>2021</td>\n",
       "      <td>5.636246</td>\n",
       "    </tr>\n",
       "    <tr>\n",
       "      <th>17</th>\n",
       "      <td>2022</td>\n",
       "      <td>5.585140</td>\n",
       "    </tr>\n",
       "  </tbody>\n",
       "</table>\n",
       "</div>"
      ],
      "text/plain": [
       "    year  Life Ladder\n",
       "1   2006     5.196899\n",
       "2   2007     5.418275\n",
       "3   2008     5.418509\n",
       "4   2009     5.457667\n",
       "5   2010     5.496806\n",
       "6   2011     5.424082\n",
       "7   2012     5.443617\n",
       "8   2013     5.393294\n",
       "9   2014     5.386264\n",
       "10  2015     5.400944\n",
       "11  2016     5.396447\n",
       "12  2017     5.460408\n",
       "13  2018     5.498674\n",
       "14  2019     5.570965\n",
       "15  2020     5.727517\n",
       "16  2021     5.636246\n",
       "17  2022     5.585140"
      ]
     },
     "execution_count": 12,
     "metadata": {},
     "output_type": "execute_result"
    }
   ],
   "source": [
    "# Average life ladder score across all countries each year form 2006-2022\n",
    "happiness_byyear_no2005 = happiness_byyear[happiness_byyear['year']!=2005]\n",
    "happiness_byyear_no2005"
   ]
  },
  {
   "cell_type": "code",
   "execution_count": 13,
   "id": "ede3c08e-0603-422a-a319-fc310c85e85d",
   "metadata": {
    "tags": []
   },
   "outputs": [
    {
     "data": {
      "text/html": [
       "\n",
       "<style>\n",
       "  #altair-viz-2a08f33eec7d4b0e80943112596b2e5b.vega-embed {\n",
       "    width: 100%;\n",
       "    display: flex;\n",
       "  }\n",
       "\n",
       "  #altair-viz-2a08f33eec7d4b0e80943112596b2e5b.vega-embed details,\n",
       "  #altair-viz-2a08f33eec7d4b0e80943112596b2e5b.vega-embed details summary {\n",
       "    position: relative;\n",
       "  }\n",
       "</style>\n",
       "<div id=\"altair-viz-2a08f33eec7d4b0e80943112596b2e5b\"></div>\n",
       "<script type=\"text/javascript\">\n",
       "  var VEGA_DEBUG = (typeof VEGA_DEBUG == \"undefined\") ? {} : VEGA_DEBUG;\n",
       "  (function(spec, embedOpt){\n",
       "    let outputDiv = document.currentScript.previousElementSibling;\n",
       "    if (outputDiv.id !== \"altair-viz-2a08f33eec7d4b0e80943112596b2e5b\") {\n",
       "      outputDiv = document.getElementById(\"altair-viz-2a08f33eec7d4b0e80943112596b2e5b\");\n",
       "    }\n",
       "    const paths = {\n",
       "      \"vega\": \"https://cdn.jsdelivr.net/npm/vega@5?noext\",\n",
       "      \"vega-lib\": \"https://cdn.jsdelivr.net/npm/vega-lib?noext\",\n",
       "      \"vega-lite\": \"https://cdn.jsdelivr.net/npm/vega-lite@5.8.0?noext\",\n",
       "      \"vega-embed\": \"https://cdn.jsdelivr.net/npm/vega-embed@6?noext\",\n",
       "    };\n",
       "\n",
       "    function maybeLoadScript(lib, version) {\n",
       "      var key = `${lib.replace(\"-\", \"\")}_version`;\n",
       "      return (VEGA_DEBUG[key] == version) ?\n",
       "        Promise.resolve(paths[lib]) :\n",
       "        new Promise(function(resolve, reject) {\n",
       "          var s = document.createElement('script');\n",
       "          document.getElementsByTagName(\"head\")[0].appendChild(s);\n",
       "          s.async = true;\n",
       "          s.onload = () => {\n",
       "            VEGA_DEBUG[key] = version;\n",
       "            return resolve(paths[lib]);\n",
       "          };\n",
       "          s.onerror = () => reject(`Error loading script: ${paths[lib]}`);\n",
       "          s.src = paths[lib];\n",
       "        });\n",
       "    }\n",
       "\n",
       "    function showError(err) {\n",
       "      outputDiv.innerHTML = `<div class=\"error\" style=\"color:red;\">${err}</div>`;\n",
       "      throw err;\n",
       "    }\n",
       "\n",
       "    function displayChart(vegaEmbed) {\n",
       "      vegaEmbed(outputDiv, spec, embedOpt)\n",
       "        .catch(err => showError(`Javascript Error: ${err.message}<br>This usually means there's a typo in your chart specification. See the javascript console for the full traceback.`));\n",
       "    }\n",
       "\n",
       "    if(typeof define === \"function\" && define.amd) {\n",
       "      requirejs.config({paths});\n",
       "      require([\"vega-embed\"], displayChart, err => showError(`Error loading script: ${err.message}`));\n",
       "    } else {\n",
       "      maybeLoadScript(\"vega\", \"5\")\n",
       "        .then(() => maybeLoadScript(\"vega-lite\", \"5.8.0\"))\n",
       "        .then(() => maybeLoadScript(\"vega-embed\", \"6\"))\n",
       "        .catch(showError)\n",
       "        .then(() => displayChart(vegaEmbed));\n",
       "    }\n",
       "  })({\"config\": {\"view\": {\"continuousWidth\": 300, \"continuousHeight\": 300}}, \"data\": {\"name\": \"data-ae1dbb2be7915cf741d068bf9302c64f\"}, \"mark\": {\"type\": \"line\", \"point\": true}, \"encoding\": {\"x\": {\"field\": \"year\", \"type\": \"nominal\"}, \"y\": {\"field\": \"Life Ladder\", \"scale\": {\"domain\": [5, 6]}, \"type\": \"quantitative\"}}, \"title\": \"Average Happiness Around the World Over Time (2006-2022)\", \"$schema\": \"https://vega.github.io/schema/vega-lite/v5.8.0.json\", \"datasets\": {\"data-ae1dbb2be7915cf741d068bf9302c64f\": [{\"year\": 2006, \"Life Ladder\": 5.196898876404495}, {\"year\": 2007, \"Life Ladder\": 5.418274509803921}, {\"year\": 2008, \"Life Ladder\": 5.41850909090909}, {\"year\": 2009, \"Life Ladder\": 5.457666666666666}, {\"year\": 2010, \"Life Ladder\": 5.496806451612904}, {\"year\": 2011, \"Life Ladder\": 5.424082191780823}, {\"year\": 2012, \"Life Ladder\": 5.443617021276595}, {\"year\": 2013, \"Life Ladder\": 5.393294117647059}, {\"year\": 2014, \"Life Ladder\": 5.386263888888888}, {\"year\": 2015, \"Life Ladder\": 5.400943661971831}, {\"year\": 2016, \"Life Ladder\": 5.396446808510638}, {\"year\": 2017, \"Life Ladder\": 5.460408163265305}, {\"year\": 2018, \"Life Ladder\": 5.498673758865248}, {\"year\": 2019, \"Life Ladder\": 5.5709650349650355}, {\"year\": 2020, \"Life Ladder\": 5.727517241379311}, {\"year\": 2021, \"Life Ladder\": 5.636245901639344}, {\"year\": 2022, \"Life Ladder\": 5.585140350877193}]}}, {\"mode\": \"vega-lite\"});\n",
       "</script>"
      ],
      "text/plain": [
       "alt.Chart(...)"
      ]
     },
     "execution_count": 13,
     "metadata": {},
     "output_type": "execute_result"
    }
   ],
   "source": [
    "alt.Chart(happiness_byyear_no2005).mark_line(point=True).encode(\n",
    "    x = 'year:N',\n",
    "    y = alt.Y('Life Ladder', scale=alt.Scale(domain=[5,6]))).properties(\n",
    "    title = 'Average Happiness Around the World Over Time (2006-2022)')"
   ]
  },
  {
   "cell_type": "markdown",
   "id": "e94e2407-26c8-4a2f-ad3f-a818889a610b",
   "metadata": {},
   "source": [
    "From this graph, we can see that since 2006, there has been a slight increase in the overall happiness in the world with the life ladder score increasing from approximately 5.2 in 2006 to approximately 5.59 in 2022."
   ]
  },
  {
   "cell_type": "markdown",
   "id": "268c72d9-9036-4fad-8969-d7305cc8608b",
   "metadata": {},
   "source": [
    "### Which country's happiness has improved the most over time?"
   ]
  },
  {
   "cell_type": "code",
   "execution_count": 14,
   "id": "333ab77c-4d7e-4552-b18d-39661ca5530f",
   "metadata": {
    "tags": []
   },
   "outputs": [
    {
     "data": {
      "text/plain": [
       "-2.4430000000000005"
      ]
     },
     "execution_count": 14,
     "metadata": {},
     "output_type": "execute_result"
    }
   ],
   "source": [
    "afghanistan = happiness[happiness['Country name'] == 'Afghanistan']\n",
    "afghanistan.loc[len(afghanistan)-1,'Life Ladder']-afghanistan.loc[0,'Life Ladder']"
   ]
  },
  {
   "cell_type": "code",
   "execution_count": 15,
   "id": "f5ae901f-663e-45f3-bcfa-bece531eb195",
   "metadata": {
    "tags": []
   },
   "outputs": [
    {
     "data": {
      "text/html": [
       "<div>\n",
       "<style scoped>\n",
       "    .dataframe tbody tr th:only-of-type {\n",
       "        vertical-align: middle;\n",
       "    }\n",
       "\n",
       "    .dataframe tbody tr th {\n",
       "        vertical-align: top;\n",
       "    }\n",
       "\n",
       "    .dataframe thead th {\n",
       "        text-align: right;\n",
       "    }\n",
       "</style>\n",
       "<table border=\"1\" class=\"dataframe\">\n",
       "  <thead>\n",
       "    <tr style=\"text-align: right;\">\n",
       "      <th></th>\n",
       "      <th>Country</th>\n",
       "      <th>Increase in Happiness</th>\n",
       "    </tr>\n",
       "  </thead>\n",
       "  <tbody>\n",
       "    <tr>\n",
       "      <th>32</th>\n",
       "      <td>Congo (Brazzaville)</td>\n",
       "      <td>1.985</td>\n",
       "    </tr>\n",
       "  </tbody>\n",
       "</table>\n",
       "</div>"
      ],
      "text/plain": [
       "                Country  Increase in Happiness\n",
       "32  Congo (Brazzaville)                  1.985"
      ]
     },
     "execution_count": 15,
     "metadata": {},
     "output_type": "execute_result"
    }
   ],
   "source": [
    "countries = happiness['Country name'].unique()\n",
    "results = []\n",
    "\n",
    "for country in countries:\n",
    "    country_data = happiness[happiness['Country name'] == country].reset_index()\n",
    "    difference = country_data.loc[len(country_data) - 1, 'Life Ladder'] - country_data.loc[0, 'Life Ladder']\n",
    "    result_tuple = (country, difference)\n",
    "    results.append(result_tuple)\n",
    "\n",
    "df = pd.DataFrame(results, columns=['Country', 'Increase in Happiness'])\n",
    "\n",
    "df[df['Increase in Happiness']==df['Increase in Happiness'].max()]"
   ]
  },
  {
   "cell_type": "code",
   "execution_count": 16,
   "id": "100f42ee-1575-4f7f-b318-8f6cbff739f6",
   "metadata": {
    "tags": []
   },
   "outputs": [
    {
     "data": {
      "text/html": [
       "\n",
       "<style>\n",
       "  #altair-viz-2e153f715eeb4ad19c5275841de5308a.vega-embed {\n",
       "    width: 100%;\n",
       "    display: flex;\n",
       "  }\n",
       "\n",
       "  #altair-viz-2e153f715eeb4ad19c5275841de5308a.vega-embed details,\n",
       "  #altair-viz-2e153f715eeb4ad19c5275841de5308a.vega-embed details summary {\n",
       "    position: relative;\n",
       "  }\n",
       "</style>\n",
       "<div id=\"altair-viz-2e153f715eeb4ad19c5275841de5308a\"></div>\n",
       "<script type=\"text/javascript\">\n",
       "  var VEGA_DEBUG = (typeof VEGA_DEBUG == \"undefined\") ? {} : VEGA_DEBUG;\n",
       "  (function(spec, embedOpt){\n",
       "    let outputDiv = document.currentScript.previousElementSibling;\n",
       "    if (outputDiv.id !== \"altair-viz-2e153f715eeb4ad19c5275841de5308a\") {\n",
       "      outputDiv = document.getElementById(\"altair-viz-2e153f715eeb4ad19c5275841de5308a\");\n",
       "    }\n",
       "    const paths = {\n",
       "      \"vega\": \"https://cdn.jsdelivr.net/npm/vega@5?noext\",\n",
       "      \"vega-lib\": \"https://cdn.jsdelivr.net/npm/vega-lib?noext\",\n",
       "      \"vega-lite\": \"https://cdn.jsdelivr.net/npm/vega-lite@5.8.0?noext\",\n",
       "      \"vega-embed\": \"https://cdn.jsdelivr.net/npm/vega-embed@6?noext\",\n",
       "    };\n",
       "\n",
       "    function maybeLoadScript(lib, version) {\n",
       "      var key = `${lib.replace(\"-\", \"\")}_version`;\n",
       "      return (VEGA_DEBUG[key] == version) ?\n",
       "        Promise.resolve(paths[lib]) :\n",
       "        new Promise(function(resolve, reject) {\n",
       "          var s = document.createElement('script');\n",
       "          document.getElementsByTagName(\"head\")[0].appendChild(s);\n",
       "          s.async = true;\n",
       "          s.onload = () => {\n",
       "            VEGA_DEBUG[key] = version;\n",
       "            return resolve(paths[lib]);\n",
       "          };\n",
       "          s.onerror = () => reject(`Error loading script: ${paths[lib]}`);\n",
       "          s.src = paths[lib];\n",
       "        });\n",
       "    }\n",
       "\n",
       "    function showError(err) {\n",
       "      outputDiv.innerHTML = `<div class=\"error\" style=\"color:red;\">${err}</div>`;\n",
       "      throw err;\n",
       "    }\n",
       "\n",
       "    function displayChart(vegaEmbed) {\n",
       "      vegaEmbed(outputDiv, spec, embedOpt)\n",
       "        .catch(err => showError(`Javascript Error: ${err.message}<br>This usually means there's a typo in your chart specification. See the javascript console for the full traceback.`));\n",
       "    }\n",
       "\n",
       "    if(typeof define === \"function\" && define.amd) {\n",
       "      requirejs.config({paths});\n",
       "      require([\"vega-embed\"], displayChart, err => showError(`Error loading script: ${err.message}`));\n",
       "    } else {\n",
       "      maybeLoadScript(\"vega\", \"5\")\n",
       "        .then(() => maybeLoadScript(\"vega-lite\", \"5.8.0\"))\n",
       "        .then(() => maybeLoadScript(\"vega-embed\", \"6\"))\n",
       "        .catch(showError)\n",
       "        .then(() => displayChart(vegaEmbed));\n",
       "    }\n",
       "  })({\"config\": {\"view\": {\"continuousWidth\": 300, \"continuousHeight\": 300}}, \"data\": {\"name\": \"data-a7b9f06b70783dd94311ea44a92d933a\"}, \"mark\": {\"type\": \"line\", \"point\": true}, \"encoding\": {\"x\": {\"field\": \"year\", \"type\": \"nominal\"}, \"y\": {\"field\": \"Life Ladder\", \"scale\": {\"domain\": [3.5, 6]}, \"type\": \"quantitative\"}}, \"title\": \"Happiness in Congo (Brazzaville) Over Time\", \"$schema\": \"https://vega.github.io/schema/vega-lite/v5.8.0.json\", \"datasets\": {\"data-a7b9f06b70783dd94311ea44a92d933a\": [{\"Country name\": \"Congo (Brazzaville)\", \"year\": 2008, \"Life Ladder\": 3.82, \"Log GDP per capita\": 8.39, \"Social support\": 0.555, \"Healthy life expectancy at birth\": 52.24, \"Freedom to make life choices\": 0.526, \"Generosity\": -0.122, \"Perceptions of corruption\": null, \"Positive affect\": 0.603, \"Negative affect\": 0.298}, {\"Country name\": \"Congo (Brazzaville)\", \"year\": 2011, \"Life Ladder\": 4.51, \"Log GDP per capita\": 8.502, \"Social support\": 0.637, \"Healthy life expectancy at birth\": 53.38, \"Freedom to make life choices\": 0.745, \"Generosity\": -0.134, \"Perceptions of corruption\": 0.833, \"Positive affect\": 0.601, \"Negative affect\": 0.288}, {\"Country name\": \"Congo (Brazzaville)\", \"year\": 2012, \"Life Ladder\": 3.919, \"Log GDP per capita\": 8.569, \"Social support\": 0.622, \"Healthy life expectancy at birth\": 53.76, \"Freedom to make life choices\": 0.773, \"Generosity\": -0.141, \"Perceptions of corruption\": 0.8, \"Positive affect\": 0.547, \"Negative affect\": 0.323}, {\"Country name\": \"Congo (Brazzaville)\", \"year\": 2013, \"Life Ladder\": 3.955, \"Log GDP per capita\": 8.538, \"Social support\": 0.68, \"Healthy life expectancy at birth\": 54.14, \"Freedom to make life choices\": 0.726, \"Generosity\": -0.104, \"Perceptions of corruption\": 0.752, \"Positive affect\": 0.599, \"Negative affect\": 0.291}, {\"Country name\": \"Congo (Brazzaville)\", \"year\": 2014, \"Life Ladder\": 4.056, \"Log GDP per capita\": 8.579, \"Social support\": 0.686, \"Healthy life expectancy at birth\": 54.52, \"Freedom to make life choices\": 0.662, \"Generosity\": -0.137, \"Perceptions of corruption\": 0.808, \"Positive affect\": 0.558, \"Negative affect\": 0.4}, {\"Country name\": \"Congo (Brazzaville)\", \"year\": 2015, \"Life Ladder\": 4.691, \"Log GDP per capita\": 8.519, \"Social support\": 0.642, \"Healthy life expectancy at birth\": 54.9, \"Freedom to make life choices\": 0.85, \"Generosity\": -0.126, \"Perceptions of corruption\": 0.841, \"Positive affect\": 0.555, \"Negative affect\": 0.261}, {\"Country name\": \"Congo (Brazzaville)\", \"year\": 2016, \"Life Ladder\": 4.119, \"Log GDP per capita\": 8.381, \"Social support\": 0.615, \"Healthy life expectancy at birth\": 55.225, \"Freedom to make life choices\": 0.786, \"Generosity\": -0.088, \"Perceptions of corruption\": 0.79, \"Positive affect\": 0.586, \"Negative affect\": 0.304}, {\"Country name\": \"Congo (Brazzaville)\", \"year\": 2017, \"Life Ladder\": 4.884, \"Log GDP per capita\": 8.312, \"Social support\": 0.655, \"Healthy life expectancy at birth\": 55.55, \"Freedom to make life choices\": 0.778, \"Generosity\": -0.145, \"Perceptions of corruption\": 0.763, \"Positive affect\": 0.574, \"Negative affect\": 0.382}, {\"Country name\": \"Congo (Brazzaville)\", \"year\": 2018, \"Life Ladder\": 5.49, \"Log GDP per capita\": 8.239, \"Social support\": 0.621, \"Healthy life expectancy at birth\": 55.875, \"Freedom to make life choices\": 0.699, \"Generosity\": -0.102, \"Perceptions of corruption\": 0.738, \"Positive affect\": 0.571, \"Negative affect\": 0.448}, {\"Country name\": \"Congo (Brazzaville)\", \"year\": 2019, \"Life Ladder\": 5.213, \"Log GDP per capita\": 8.215, \"Social support\": 0.625, \"Healthy life expectancy at birth\": 56.2, \"Freedom to make life choices\": 0.686, \"Generosity\": -0.056, \"Perceptions of corruption\": 0.741, \"Positive affect\": 0.594, \"Negative affect\": 0.405}, {\"Country name\": \"Congo (Brazzaville)\", \"year\": 2020, \"Life Ladder\": 5.079, \"Log GDP per capita\": 8.127, \"Social support\": 0.597, \"Healthy life expectancy at birth\": 56.525, \"Freedom to make life choices\": 0.761, \"Generosity\": -0.021, \"Perceptions of corruption\": 0.728, \"Positive affect\": 0.572, \"Negative affect\": 0.435}, {\"Country name\": \"Congo (Brazzaville)\", \"year\": 2021, \"Life Ladder\": 4.921, \"Log GDP per capita\": 8.082, \"Social support\": 0.568, \"Healthy life expectancy at birth\": 56.85, \"Freedom to make life choices\": 0.738, \"Generosity\": -0.019, \"Perceptions of corruption\": 0.733, \"Positive affect\": 0.568, \"Negative affect\": 0.42}, {\"Country name\": \"Congo (Brazzaville)\", \"year\": 2022, \"Life Ladder\": 5.805, \"Log GDP per capita\": 8.077, \"Social support\": 0.646, \"Healthy life expectancy at birth\": 57.175, \"Freedom to make life choices\": 0.698, \"Generosity\": 0.028, \"Perceptions of corruption\": 0.76, \"Positive affect\": 0.583, \"Negative affect\": 0.477}]}}, {\"mode\": \"vega-lite\"});\n",
       "</script>"
      ],
      "text/plain": [
       "alt.Chart(...)"
      ]
     },
     "execution_count": 16,
     "metadata": {},
     "output_type": "execute_result"
    }
   ],
   "source": [
    "alt.Chart(happiness[happiness['Country name'] == 'Congo (Brazzaville)']).mark_line(point=True).encode(\n",
    "    x = 'year:N',\n",
    "    y = alt.Y('Life Ladder', scale=alt.Scale(domain=[3.5,6]))).properties(\n",
    "    title = 'Happiness in Congo (Brazzaville) Over Time')"
   ]
  },
  {
   "cell_type": "markdown",
   "id": "dae080a5-adb9-460e-a606-ef1b30b13f3d",
   "metadata": {},
   "source": [
    "In order to quantify the \"greatest improvement\" in happiness over time, we took the most oldest life ladder score from each country and subtracted it from that country's most recent life ladder score. Thus, we found that Congo (Brazzaville), also known as the Repubilic of Congo (not to be confused with the Democratic Republic of Congo), has seen the greatest improvement in happiness with their Life Ladder score increasing by nearly 2 points between 2008 and 2022."
   ]
  },
  {
   "cell_type": "markdown",
   "id": "c49b86cb-83fe-43a3-a48e-0412cac1f936",
   "metadata": {},
   "source": [
    "### Which country has consistently been the happiest?"
   ]
  },
  {
   "cell_type": "code",
   "execution_count": 17,
   "id": "3c5ee15e-2cd4-4850-8f7c-68a55d443a15",
   "metadata": {
    "tags": []
   },
   "outputs": [
    {
     "data": {
      "text/html": [
       "<div>\n",
       "<style scoped>\n",
       "    .dataframe tbody tr th:only-of-type {\n",
       "        vertical-align: middle;\n",
       "    }\n",
       "\n",
       "    .dataframe tbody tr th {\n",
       "        vertical-align: top;\n",
       "    }\n",
       "\n",
       "    .dataframe thead th {\n",
       "        text-align: right;\n",
       "    }\n",
       "</style>\n",
       "<table border=\"1\" class=\"dataframe\">\n",
       "  <thead>\n",
       "    <tr style=\"text-align: right;\">\n",
       "      <th></th>\n",
       "      <th>Country name</th>\n",
       "      <th>Life Ladder</th>\n",
       "    </tr>\n",
       "  </thead>\n",
       "  <tbody>\n",
       "    <tr>\n",
       "      <th>39</th>\n",
       "      <td>Denmark</td>\n",
       "      <td>7.673529</td>\n",
       "    </tr>\n",
       "  </tbody>\n",
       "</table>\n",
       "</div>"
      ],
      "text/plain": [
       "   Country name  Life Ladder\n",
       "39      Denmark     7.673529"
      ]
     },
     "execution_count": 17,
     "metadata": {},
     "output_type": "execute_result"
    }
   ],
   "source": [
    "# Which country has consistently been the happiest\n",
    "happiness_bycountry = happiness.iloc[:,[0,2]].groupby('Country name').mean().reset_index()\n",
    "happiness_bycountry\n",
    "happiness_bycountry[happiness_bycountry['Life Ladder']==happiness_bycountry['Life Ladder'].max()]"
   ]
  },
  {
   "cell_type": "code",
   "execution_count": 18,
   "id": "64e00901-5374-47fc-aa9d-a8477cc8d309",
   "metadata": {
    "tags": []
   },
   "outputs": [
    {
     "data": {
      "text/html": [
       "<div>\n",
       "<style scoped>\n",
       "    .dataframe tbody tr th:only-of-type {\n",
       "        vertical-align: middle;\n",
       "    }\n",
       "\n",
       "    .dataframe tbody tr th {\n",
       "        vertical-align: top;\n",
       "    }\n",
       "\n",
       "    .dataframe thead th {\n",
       "        text-align: right;\n",
       "    }\n",
       "</style>\n",
       "<table border=\"1\" class=\"dataframe\">\n",
       "  <thead>\n",
       "    <tr style=\"text-align: right;\">\n",
       "      <th></th>\n",
       "      <th>Country name</th>\n",
       "      <th>year</th>\n",
       "      <th>Life Ladder</th>\n",
       "      <th>Log GDP per capita</th>\n",
       "      <th>Social support</th>\n",
       "      <th>Healthy life expectancy at birth</th>\n",
       "      <th>Freedom to make life choices</th>\n",
       "      <th>Generosity</th>\n",
       "      <th>Perceptions of corruption</th>\n",
       "      <th>Positive affect</th>\n",
       "      <th>Negative affect</th>\n",
       "    </tr>\n",
       "  </thead>\n",
       "  <tbody>\n",
       "    <tr>\n",
       "      <th>505</th>\n",
       "      <td>Denmark</td>\n",
       "      <td>2005</td>\n",
       "      <td>8.019</td>\n",
       "      <td>10.849</td>\n",
       "      <td>0.972</td>\n",
       "      <td>68.300</td>\n",
       "      <td>0.971</td>\n",
       "      <td>NaN</td>\n",
       "      <td>0.237</td>\n",
       "      <td>0.777</td>\n",
       "      <td>0.154</td>\n",
       "    </tr>\n",
       "    <tr>\n",
       "      <th>506</th>\n",
       "      <td>Denmark</td>\n",
       "      <td>2007</td>\n",
       "      <td>7.834</td>\n",
       "      <td>10.889</td>\n",
       "      <td>0.954</td>\n",
       "      <td>68.740</td>\n",
       "      <td>0.932</td>\n",
       "      <td>0.236</td>\n",
       "      <td>0.206</td>\n",
       "      <td>0.778</td>\n",
       "      <td>0.194</td>\n",
       "    </tr>\n",
       "    <tr>\n",
       "      <th>507</th>\n",
       "      <td>Denmark</td>\n",
       "      <td>2008</td>\n",
       "      <td>7.971</td>\n",
       "      <td>10.878</td>\n",
       "      <td>0.954</td>\n",
       "      <td>68.960</td>\n",
       "      <td>0.970</td>\n",
       "      <td>0.268</td>\n",
       "      <td>0.248</td>\n",
       "      <td>0.759</td>\n",
       "      <td>0.163</td>\n",
       "    </tr>\n",
       "    <tr>\n",
       "      <th>508</th>\n",
       "      <td>Denmark</td>\n",
       "      <td>2009</td>\n",
       "      <td>7.683</td>\n",
       "      <td>10.822</td>\n",
       "      <td>0.939</td>\n",
       "      <td>69.180</td>\n",
       "      <td>0.949</td>\n",
       "      <td>0.259</td>\n",
       "      <td>0.206</td>\n",
       "      <td>0.782</td>\n",
       "      <td>0.234</td>\n",
       "    </tr>\n",
       "    <tr>\n",
       "      <th>509</th>\n",
       "      <td>Denmark</td>\n",
       "      <td>2010</td>\n",
       "      <td>7.771</td>\n",
       "      <td>10.836</td>\n",
       "      <td>0.975</td>\n",
       "      <td>69.400</td>\n",
       "      <td>0.944</td>\n",
       "      <td>0.238</td>\n",
       "      <td>0.175</td>\n",
       "      <td>0.796</td>\n",
       "      <td>0.155</td>\n",
       "    </tr>\n",
       "    <tr>\n",
       "      <th>510</th>\n",
       "      <td>Denmark</td>\n",
       "      <td>2011</td>\n",
       "      <td>7.788</td>\n",
       "      <td>10.845</td>\n",
       "      <td>0.962</td>\n",
       "      <td>69.620</td>\n",
       "      <td>0.935</td>\n",
       "      <td>0.293</td>\n",
       "      <td>0.220</td>\n",
       "      <td>0.778</td>\n",
       "      <td>0.175</td>\n",
       "    </tr>\n",
       "    <tr>\n",
       "      <th>511</th>\n",
       "      <td>Denmark</td>\n",
       "      <td>2012</td>\n",
       "      <td>7.520</td>\n",
       "      <td>10.844</td>\n",
       "      <td>0.951</td>\n",
       "      <td>69.840</td>\n",
       "      <td>0.933</td>\n",
       "      <td>0.135</td>\n",
       "      <td>0.187</td>\n",
       "      <td>0.783</td>\n",
       "      <td>0.209</td>\n",
       "    </tr>\n",
       "    <tr>\n",
       "      <th>512</th>\n",
       "      <td>Denmark</td>\n",
       "      <td>2013</td>\n",
       "      <td>7.589</td>\n",
       "      <td>10.849</td>\n",
       "      <td>0.965</td>\n",
       "      <td>70.060</td>\n",
       "      <td>0.920</td>\n",
       "      <td>0.211</td>\n",
       "      <td>0.170</td>\n",
       "      <td>0.826</td>\n",
       "      <td>0.195</td>\n",
       "    </tr>\n",
       "    <tr>\n",
       "      <th>513</th>\n",
       "      <td>Denmark</td>\n",
       "      <td>2014</td>\n",
       "      <td>7.508</td>\n",
       "      <td>10.860</td>\n",
       "      <td>0.956</td>\n",
       "      <td>70.280</td>\n",
       "      <td>0.942</td>\n",
       "      <td>0.114</td>\n",
       "      <td>0.237</td>\n",
       "      <td>0.780</td>\n",
       "      <td>0.233</td>\n",
       "    </tr>\n",
       "    <tr>\n",
       "      <th>514</th>\n",
       "      <td>Denmark</td>\n",
       "      <td>2015</td>\n",
       "      <td>7.514</td>\n",
       "      <td>10.876</td>\n",
       "      <td>0.960</td>\n",
       "      <td>70.500</td>\n",
       "      <td>0.941</td>\n",
       "      <td>0.218</td>\n",
       "      <td>0.191</td>\n",
       "      <td>0.801</td>\n",
       "      <td>0.218</td>\n",
       "    </tr>\n",
       "    <tr>\n",
       "      <th>515</th>\n",
       "      <td>Denmark</td>\n",
       "      <td>2016</td>\n",
       "      <td>7.558</td>\n",
       "      <td>10.900</td>\n",
       "      <td>0.954</td>\n",
       "      <td>70.625</td>\n",
       "      <td>0.948</td>\n",
       "      <td>0.134</td>\n",
       "      <td>0.210</td>\n",
       "      <td>0.786</td>\n",
       "      <td>0.208</td>\n",
       "    </tr>\n",
       "    <tr>\n",
       "      <th>516</th>\n",
       "      <td>Denmark</td>\n",
       "      <td>2017</td>\n",
       "      <td>7.594</td>\n",
       "      <td>10.922</td>\n",
       "      <td>0.952</td>\n",
       "      <td>70.750</td>\n",
       "      <td>0.955</td>\n",
       "      <td>0.151</td>\n",
       "      <td>0.181</td>\n",
       "      <td>0.779</td>\n",
       "      <td>0.206</td>\n",
       "    </tr>\n",
       "    <tr>\n",
       "      <th>517</th>\n",
       "      <td>Denmark</td>\n",
       "      <td>2018</td>\n",
       "      <td>7.649</td>\n",
       "      <td>10.936</td>\n",
       "      <td>0.958</td>\n",
       "      <td>70.875</td>\n",
       "      <td>0.935</td>\n",
       "      <td>0.013</td>\n",
       "      <td>0.151</td>\n",
       "      <td>0.773</td>\n",
       "      <td>0.206</td>\n",
       "    </tr>\n",
       "    <tr>\n",
       "      <th>518</th>\n",
       "      <td>Denmark</td>\n",
       "      <td>2019</td>\n",
       "      <td>7.693</td>\n",
       "      <td>10.948</td>\n",
       "      <td>0.958</td>\n",
       "      <td>71.000</td>\n",
       "      <td>0.963</td>\n",
       "      <td>0.016</td>\n",
       "      <td>0.174</td>\n",
       "      <td>0.797</td>\n",
       "      <td>0.181</td>\n",
       "    </tr>\n",
       "    <tr>\n",
       "      <th>519</th>\n",
       "      <td>Denmark</td>\n",
       "      <td>2020</td>\n",
       "      <td>7.515</td>\n",
       "      <td>10.924</td>\n",
       "      <td>0.947</td>\n",
       "      <td>71.125</td>\n",
       "      <td>0.938</td>\n",
       "      <td>0.047</td>\n",
       "      <td>0.214</td>\n",
       "      <td>0.753</td>\n",
       "      <td>0.227</td>\n",
       "    </tr>\n",
       "    <tr>\n",
       "      <th>520</th>\n",
       "      <td>Denmark</td>\n",
       "      <td>2021</td>\n",
       "      <td>7.699</td>\n",
       "      <td>10.968</td>\n",
       "      <td>0.945</td>\n",
       "      <td>71.250</td>\n",
       "      <td>0.933</td>\n",
       "      <td>0.131</td>\n",
       "      <td>0.173</td>\n",
       "      <td>0.792</td>\n",
       "      <td>0.206</td>\n",
       "    </tr>\n",
       "    <tr>\n",
       "      <th>521</th>\n",
       "      <td>Denmark</td>\n",
       "      <td>2022</td>\n",
       "      <td>7.545</td>\n",
       "      <td>10.994</td>\n",
       "      <td>0.970</td>\n",
       "      <td>71.375</td>\n",
       "      <td>0.930</td>\n",
       "      <td>0.224</td>\n",
       "      <td>0.203</td>\n",
       "      <td>0.787</td>\n",
       "      <td>0.205</td>\n",
       "    </tr>\n",
       "  </tbody>\n",
       "</table>\n",
       "</div>"
      ],
      "text/plain": [
       "    Country name  year  Life Ladder  Log GDP per capita  Social support  \\\n",
       "505      Denmark  2005        8.019              10.849           0.972   \n",
       "506      Denmark  2007        7.834              10.889           0.954   \n",
       "507      Denmark  2008        7.971              10.878           0.954   \n",
       "508      Denmark  2009        7.683              10.822           0.939   \n",
       "509      Denmark  2010        7.771              10.836           0.975   \n",
       "510      Denmark  2011        7.788              10.845           0.962   \n",
       "511      Denmark  2012        7.520              10.844           0.951   \n",
       "512      Denmark  2013        7.589              10.849           0.965   \n",
       "513      Denmark  2014        7.508              10.860           0.956   \n",
       "514      Denmark  2015        7.514              10.876           0.960   \n",
       "515      Denmark  2016        7.558              10.900           0.954   \n",
       "516      Denmark  2017        7.594              10.922           0.952   \n",
       "517      Denmark  2018        7.649              10.936           0.958   \n",
       "518      Denmark  2019        7.693              10.948           0.958   \n",
       "519      Denmark  2020        7.515              10.924           0.947   \n",
       "520      Denmark  2021        7.699              10.968           0.945   \n",
       "521      Denmark  2022        7.545              10.994           0.970   \n",
       "\n",
       "     Healthy life expectancy at birth  Freedom to make life choices  \\\n",
       "505                            68.300                         0.971   \n",
       "506                            68.740                         0.932   \n",
       "507                            68.960                         0.970   \n",
       "508                            69.180                         0.949   \n",
       "509                            69.400                         0.944   \n",
       "510                            69.620                         0.935   \n",
       "511                            69.840                         0.933   \n",
       "512                            70.060                         0.920   \n",
       "513                            70.280                         0.942   \n",
       "514                            70.500                         0.941   \n",
       "515                            70.625                         0.948   \n",
       "516                            70.750                         0.955   \n",
       "517                            70.875                         0.935   \n",
       "518                            71.000                         0.963   \n",
       "519                            71.125                         0.938   \n",
       "520                            71.250                         0.933   \n",
       "521                            71.375                         0.930   \n",
       "\n",
       "     Generosity  Perceptions of corruption  Positive affect  Negative affect  \n",
       "505         NaN                      0.237            0.777            0.154  \n",
       "506       0.236                      0.206            0.778            0.194  \n",
       "507       0.268                      0.248            0.759            0.163  \n",
       "508       0.259                      0.206            0.782            0.234  \n",
       "509       0.238                      0.175            0.796            0.155  \n",
       "510       0.293                      0.220            0.778            0.175  \n",
       "511       0.135                      0.187            0.783            0.209  \n",
       "512       0.211                      0.170            0.826            0.195  \n",
       "513       0.114                      0.237            0.780            0.233  \n",
       "514       0.218                      0.191            0.801            0.218  \n",
       "515       0.134                      0.210            0.786            0.208  \n",
       "516       0.151                      0.181            0.779            0.206  \n",
       "517       0.013                      0.151            0.773            0.206  \n",
       "518       0.016                      0.174            0.797            0.181  \n",
       "519       0.047                      0.214            0.753            0.227  \n",
       "520       0.131                      0.173            0.792            0.206  \n",
       "521       0.224                      0.203            0.787            0.205  "
      ]
     },
     "execution_count": 18,
     "metadata": {},
     "output_type": "execute_result"
    }
   ],
   "source": [
    "happiness[happiness['Country name']=='Denmark']"
   ]
  },
  {
   "cell_type": "code",
   "execution_count": 19,
   "id": "8bfc7449-2655-45a8-94bd-2f0fb21cd35b",
   "metadata": {
    "tags": []
   },
   "outputs": [
    {
     "data": {
      "text/html": [
       "\n",
       "<style>\n",
       "  #altair-viz-ecef1629d26d4643bb0b01573a3d2f47.vega-embed {\n",
       "    width: 100%;\n",
       "    display: flex;\n",
       "  }\n",
       "\n",
       "  #altair-viz-ecef1629d26d4643bb0b01573a3d2f47.vega-embed details,\n",
       "  #altair-viz-ecef1629d26d4643bb0b01573a3d2f47.vega-embed details summary {\n",
       "    position: relative;\n",
       "  }\n",
       "</style>\n",
       "<div id=\"altair-viz-ecef1629d26d4643bb0b01573a3d2f47\"></div>\n",
       "<script type=\"text/javascript\">\n",
       "  var VEGA_DEBUG = (typeof VEGA_DEBUG == \"undefined\") ? {} : VEGA_DEBUG;\n",
       "  (function(spec, embedOpt){\n",
       "    let outputDiv = document.currentScript.previousElementSibling;\n",
       "    if (outputDiv.id !== \"altair-viz-ecef1629d26d4643bb0b01573a3d2f47\") {\n",
       "      outputDiv = document.getElementById(\"altair-viz-ecef1629d26d4643bb0b01573a3d2f47\");\n",
       "    }\n",
       "    const paths = {\n",
       "      \"vega\": \"https://cdn.jsdelivr.net/npm/vega@5?noext\",\n",
       "      \"vega-lib\": \"https://cdn.jsdelivr.net/npm/vega-lib?noext\",\n",
       "      \"vega-lite\": \"https://cdn.jsdelivr.net/npm/vega-lite@5.8.0?noext\",\n",
       "      \"vega-embed\": \"https://cdn.jsdelivr.net/npm/vega-embed@6?noext\",\n",
       "    };\n",
       "\n",
       "    function maybeLoadScript(lib, version) {\n",
       "      var key = `${lib.replace(\"-\", \"\")}_version`;\n",
       "      return (VEGA_DEBUG[key] == version) ?\n",
       "        Promise.resolve(paths[lib]) :\n",
       "        new Promise(function(resolve, reject) {\n",
       "          var s = document.createElement('script');\n",
       "          document.getElementsByTagName(\"head\")[0].appendChild(s);\n",
       "          s.async = true;\n",
       "          s.onload = () => {\n",
       "            VEGA_DEBUG[key] = version;\n",
       "            return resolve(paths[lib]);\n",
       "          };\n",
       "          s.onerror = () => reject(`Error loading script: ${paths[lib]}`);\n",
       "          s.src = paths[lib];\n",
       "        });\n",
       "    }\n",
       "\n",
       "    function showError(err) {\n",
       "      outputDiv.innerHTML = `<div class=\"error\" style=\"color:red;\">${err}</div>`;\n",
       "      throw err;\n",
       "    }\n",
       "\n",
       "    function displayChart(vegaEmbed) {\n",
       "      vegaEmbed(outputDiv, spec, embedOpt)\n",
       "        .catch(err => showError(`Javascript Error: ${err.message}<br>This usually means there's a typo in your chart specification. See the javascript console for the full traceback.`));\n",
       "    }\n",
       "\n",
       "    if(typeof define === \"function\" && define.amd) {\n",
       "      requirejs.config({paths});\n",
       "      require([\"vega-embed\"], displayChart, err => showError(`Error loading script: ${err.message}`));\n",
       "    } else {\n",
       "      maybeLoadScript(\"vega\", \"5\")\n",
       "        .then(() => maybeLoadScript(\"vega-lite\", \"5.8.0\"))\n",
       "        .then(() => maybeLoadScript(\"vega-embed\", \"6\"))\n",
       "        .catch(showError)\n",
       "        .then(() => displayChart(vegaEmbed));\n",
       "    }\n",
       "  })({\"config\": {\"view\": {\"continuousWidth\": 300, \"continuousHeight\": 300}}, \"data\": {\"name\": \"data-077337072fdcd7eac95812280d1084c7\"}, \"mark\": {\"type\": \"line\", \"point\": true}, \"encoding\": {\"x\": {\"field\": \"year\", \"type\": \"nominal\"}, \"y\": {\"field\": \"Life Ladder\", \"scale\": {\"domain\": [5, 9]}, \"type\": \"quantitative\"}}, \"title\": \"Happiness in Denmark Over Time\", \"$schema\": \"https://vega.github.io/schema/vega-lite/v5.8.0.json\", \"datasets\": {\"data-077337072fdcd7eac95812280d1084c7\": [{\"Country name\": \"Denmark\", \"year\": 2005, \"Life Ladder\": 8.019, \"Log GDP per capita\": 10.849, \"Social support\": 0.972, \"Healthy life expectancy at birth\": 68.3, \"Freedom to make life choices\": 0.971, \"Generosity\": null, \"Perceptions of corruption\": 0.237, \"Positive affect\": 0.777, \"Negative affect\": 0.154}, {\"Country name\": \"Denmark\", \"year\": 2007, \"Life Ladder\": 7.834, \"Log GDP per capita\": 10.889, \"Social support\": 0.954, \"Healthy life expectancy at birth\": 68.74, \"Freedom to make life choices\": 0.932, \"Generosity\": 0.236, \"Perceptions of corruption\": 0.206, \"Positive affect\": 0.778, \"Negative affect\": 0.194}, {\"Country name\": \"Denmark\", \"year\": 2008, \"Life Ladder\": 7.971, \"Log GDP per capita\": 10.878, \"Social support\": 0.954, \"Healthy life expectancy at birth\": 68.96, \"Freedom to make life choices\": 0.97, \"Generosity\": 0.268, \"Perceptions of corruption\": 0.248, \"Positive affect\": 0.759, \"Negative affect\": 0.163}, {\"Country name\": \"Denmark\", \"year\": 2009, \"Life Ladder\": 7.683, \"Log GDP per capita\": 10.822, \"Social support\": 0.939, \"Healthy life expectancy at birth\": 69.18, \"Freedom to make life choices\": 0.949, \"Generosity\": 0.259, \"Perceptions of corruption\": 0.206, \"Positive affect\": 0.782, \"Negative affect\": 0.234}, {\"Country name\": \"Denmark\", \"year\": 2010, \"Life Ladder\": 7.771, \"Log GDP per capita\": 10.836, \"Social support\": 0.975, \"Healthy life expectancy at birth\": 69.4, \"Freedom to make life choices\": 0.944, \"Generosity\": 0.238, \"Perceptions of corruption\": 0.175, \"Positive affect\": 0.796, \"Negative affect\": 0.155}, {\"Country name\": \"Denmark\", \"year\": 2011, \"Life Ladder\": 7.788, \"Log GDP per capita\": 10.845, \"Social support\": 0.962, \"Healthy life expectancy at birth\": 69.62, \"Freedom to make life choices\": 0.935, \"Generosity\": 0.293, \"Perceptions of corruption\": 0.22, \"Positive affect\": 0.778, \"Negative affect\": 0.175}, {\"Country name\": \"Denmark\", \"year\": 2012, \"Life Ladder\": 7.52, \"Log GDP per capita\": 10.844, \"Social support\": 0.951, \"Healthy life expectancy at birth\": 69.84, \"Freedom to make life choices\": 0.933, \"Generosity\": 0.135, \"Perceptions of corruption\": 0.187, \"Positive affect\": 0.783, \"Negative affect\": 0.209}, {\"Country name\": \"Denmark\", \"year\": 2013, \"Life Ladder\": 7.589, \"Log GDP per capita\": 10.849, \"Social support\": 0.965, \"Healthy life expectancy at birth\": 70.06, \"Freedom to make life choices\": 0.92, \"Generosity\": 0.211, \"Perceptions of corruption\": 0.17, \"Positive affect\": 0.826, \"Negative affect\": 0.195}, {\"Country name\": \"Denmark\", \"year\": 2014, \"Life Ladder\": 7.508, \"Log GDP per capita\": 10.86, \"Social support\": 0.956, \"Healthy life expectancy at birth\": 70.28, \"Freedom to make life choices\": 0.942, \"Generosity\": 0.114, \"Perceptions of corruption\": 0.237, \"Positive affect\": 0.78, \"Negative affect\": 0.233}, {\"Country name\": \"Denmark\", \"year\": 2015, \"Life Ladder\": 7.514, \"Log GDP per capita\": 10.876, \"Social support\": 0.96, \"Healthy life expectancy at birth\": 70.5, \"Freedom to make life choices\": 0.941, \"Generosity\": 0.218, \"Perceptions of corruption\": 0.191, \"Positive affect\": 0.801, \"Negative affect\": 0.218}, {\"Country name\": \"Denmark\", \"year\": 2016, \"Life Ladder\": 7.558, \"Log GDP per capita\": 10.9, \"Social support\": 0.954, \"Healthy life expectancy at birth\": 70.625, \"Freedom to make life choices\": 0.948, \"Generosity\": 0.134, \"Perceptions of corruption\": 0.21, \"Positive affect\": 0.786, \"Negative affect\": 0.208}, {\"Country name\": \"Denmark\", \"year\": 2017, \"Life Ladder\": 7.594, \"Log GDP per capita\": 10.922, \"Social support\": 0.952, \"Healthy life expectancy at birth\": 70.75, \"Freedom to make life choices\": 0.955, \"Generosity\": 0.151, \"Perceptions of corruption\": 0.181, \"Positive affect\": 0.779, \"Negative affect\": 0.206}, {\"Country name\": \"Denmark\", \"year\": 2018, \"Life Ladder\": 7.649, \"Log GDP per capita\": 10.936, \"Social support\": 0.958, \"Healthy life expectancy at birth\": 70.875, \"Freedom to make life choices\": 0.935, \"Generosity\": 0.013, \"Perceptions of corruption\": 0.151, \"Positive affect\": 0.773, \"Negative affect\": 0.206}, {\"Country name\": \"Denmark\", \"year\": 2019, \"Life Ladder\": 7.693, \"Log GDP per capita\": 10.948, \"Social support\": 0.958, \"Healthy life expectancy at birth\": 71.0, \"Freedom to make life choices\": 0.963, \"Generosity\": 0.016, \"Perceptions of corruption\": 0.174, \"Positive affect\": 0.797, \"Negative affect\": 0.181}, {\"Country name\": \"Denmark\", \"year\": 2020, \"Life Ladder\": 7.515, \"Log GDP per capita\": 10.924, \"Social support\": 0.947, \"Healthy life expectancy at birth\": 71.125, \"Freedom to make life choices\": 0.938, \"Generosity\": 0.047, \"Perceptions of corruption\": 0.214, \"Positive affect\": 0.753, \"Negative affect\": 0.227}, {\"Country name\": \"Denmark\", \"year\": 2021, \"Life Ladder\": 7.699, \"Log GDP per capita\": 10.968, \"Social support\": 0.945, \"Healthy life expectancy at birth\": 71.25, \"Freedom to make life choices\": 0.933, \"Generosity\": 0.131, \"Perceptions of corruption\": 0.173, \"Positive affect\": 0.792, \"Negative affect\": 0.206}, {\"Country name\": \"Denmark\", \"year\": 2022, \"Life Ladder\": 7.545, \"Log GDP per capita\": 10.994, \"Social support\": 0.97, \"Healthy life expectancy at birth\": 71.375, \"Freedom to make life choices\": 0.93, \"Generosity\": 0.224, \"Perceptions of corruption\": 0.203, \"Positive affect\": 0.787, \"Negative affect\": 0.205}]}}, {\"mode\": \"vega-lite\"});\n",
       "</script>"
      ],
      "text/plain": [
       "alt.Chart(...)"
      ]
     },
     "execution_count": 19,
     "metadata": {},
     "output_type": "execute_result"
    }
   ],
   "source": [
    "alt.Chart(happiness[happiness['Country name'] == 'Denmark']).mark_line(point=True).encode(\n",
    "    x = 'year:N',\n",
    "    y = alt.Y('Life Ladder', scale=alt.Scale(domain=[5,9]))).properties(\n",
    "    title = 'Happiness in Denmark Over Time')"
   ]
  },
  {
   "cell_type": "markdown",
   "id": "1255bc01-134e-4e51-967a-959cf02ca66a",
   "metadata": {},
   "source": [
    "In order to establish whcih country has _consistently_ been the happiest, we simply looked at the average life ladder score of each country between 2005 and 2022. We found that Denmark has consistently been the most happy country between 2005 and 2022 with an average life ladder score of about 7.67 during this time period."
   ]
  },
  {
   "cell_type": "markdown",
   "id": "2fb1be1e-3b79-4dbc-8043-82fa4076f6f5",
   "metadata": {},
   "source": [
    "Now that we have established that: there has been a slight increase in the overall hapiness in the world, Congo (Brazzaville) has seen the largest increase in happiness, and Denmark has consistenly been the most happy country, we wanted to figure out _why_ these trends occured. In order to do so we performed principal component analysis and multiple linear regressions."
   ]
  },
  {
   "cell_type": "markdown",
   "id": "9641c0c6-b9d0-46bb-a3d8-4491ac931213",
   "metadata": {},
   "source": [
    "### Principal Component Analysis"
   ]
  },
  {
   "cell_type": "code",
   "execution_count": 20,
   "id": "b3803d1b-6352-4993-9dd7-309143e8093b",
   "metadata": {
    "tags": []
   },
   "outputs": [],
   "source": [
    "# Creating correlation matrix\n",
    "x_mx = happiness.drop(columns = ['Country name', 'year'])\n",
    "corr_mx = x_mx.corr()"
   ]
  },
  {
   "cell_type": "code",
   "execution_count": 21,
   "id": "4170bfcf-e1af-413b-b8cd-eacadb4370d9",
   "metadata": {
    "tags": []
   },
   "outputs": [
    {
     "data": {
      "text/plain": [
       "Perceptions of corruption          -0.431500\n",
       "Negative affect                    -0.339969\n",
       "Generosity                          0.181630\n",
       "Positive affect                     0.518169\n",
       "Freedom to make life choices        0.534493\n",
       "Healthy life expectancy at birth    0.713499\n",
       "Social support                      0.721662\n",
       "Log GDP per capita                  0.784868\n",
       "Life Ladder                         1.000000\n",
       "Name: Life Ladder, dtype: float64"
      ]
     },
     "execution_count": 21,
     "metadata": {},
     "output_type": "execute_result"
    }
   ],
   "source": [
    "corr_mx.loc[:, 'Life Ladder'].sort_values()"
   ]
  },
  {
   "cell_type": "code",
   "execution_count": 57,
   "id": "f1793ad5-f72d-4fc8-bbe9-e612d1230522",
   "metadata": {
    "tags": []
   },
   "outputs": [
    {
     "data": {
      "text/html": [
       "\n",
       "<style>\n",
       "  #altair-viz-be5a3c114ebf43149b59a5824eaeef0f.vega-embed {\n",
       "    width: 100%;\n",
       "    display: flex;\n",
       "  }\n",
       "\n",
       "  #altair-viz-be5a3c114ebf43149b59a5824eaeef0f.vega-embed details,\n",
       "  #altair-viz-be5a3c114ebf43149b59a5824eaeef0f.vega-embed details summary {\n",
       "    position: relative;\n",
       "  }\n",
       "</style>\n",
       "<div id=\"altair-viz-be5a3c114ebf43149b59a5824eaeef0f\"></div>\n",
       "<script type=\"text/javascript\">\n",
       "  var VEGA_DEBUG = (typeof VEGA_DEBUG == \"undefined\") ? {} : VEGA_DEBUG;\n",
       "  (function(spec, embedOpt){\n",
       "    let outputDiv = document.currentScript.previousElementSibling;\n",
       "    if (outputDiv.id !== \"altair-viz-be5a3c114ebf43149b59a5824eaeef0f\") {\n",
       "      outputDiv = document.getElementById(\"altair-viz-be5a3c114ebf43149b59a5824eaeef0f\");\n",
       "    }\n",
       "    const paths = {\n",
       "      \"vega\": \"https://cdn.jsdelivr.net/npm/vega@5?noext\",\n",
       "      \"vega-lib\": \"https://cdn.jsdelivr.net/npm/vega-lib?noext\",\n",
       "      \"vega-lite\": \"https://cdn.jsdelivr.net/npm/vega-lite@5.8.0?noext\",\n",
       "      \"vega-embed\": \"https://cdn.jsdelivr.net/npm/vega-embed@6?noext\",\n",
       "    };\n",
       "\n",
       "    function maybeLoadScript(lib, version) {\n",
       "      var key = `${lib.replace(\"-\", \"\")}_version`;\n",
       "      return (VEGA_DEBUG[key] == version) ?\n",
       "        Promise.resolve(paths[lib]) :\n",
       "        new Promise(function(resolve, reject) {\n",
       "          var s = document.createElement('script');\n",
       "          document.getElementsByTagName(\"head\")[0].appendChild(s);\n",
       "          s.async = true;\n",
       "          s.onload = () => {\n",
       "            VEGA_DEBUG[key] = version;\n",
       "            return resolve(paths[lib]);\n",
       "          };\n",
       "          s.onerror = () => reject(`Error loading script: ${paths[lib]}`);\n",
       "          s.src = paths[lib];\n",
       "        });\n",
       "    }\n",
       "\n",
       "    function showError(err) {\n",
       "      outputDiv.innerHTML = `<div class=\"error\" style=\"color:red;\">${err}</div>`;\n",
       "      throw err;\n",
       "    }\n",
       "\n",
       "    function displayChart(vegaEmbed) {\n",
       "      vegaEmbed(outputDiv, spec, embedOpt)\n",
       "        .catch(err => showError(`Javascript Error: ${err.message}<br>This usually means there's a typo in your chart specification. See the javascript console for the full traceback.`));\n",
       "    }\n",
       "\n",
       "    if(typeof define === \"function\" && define.amd) {\n",
       "      requirejs.config({paths});\n",
       "      require([\"vega-embed\"], displayChart, err => showError(`Error loading script: ${err.message}`));\n",
       "    } else {\n",
       "      maybeLoadScript(\"vega\", \"5\")\n",
       "        .then(() => maybeLoadScript(\"vega-lite\", \"5.8.0\"))\n",
       "        .then(() => maybeLoadScript(\"vega-embed\", \"6\"))\n",
       "        .catch(showError)\n",
       "        .then(() => displayChart(vegaEmbed));\n",
       "    }\n",
       "  })({\"config\": {\"view\": {\"continuousWidth\": 300, \"continuousHeight\": 300}}, \"data\": {\"name\": \"data-6df4c2de989a084eb96e9107660fedba\"}, \"mark\": {\"type\": \"rect\"}, \"encoding\": {\"color\": {\"field\": \"Correlation\", \"legend\": {\"tickCount\": 5}, \"scale\": {\"domain\": [-1, 1], \"scheme\": \"blueorange\", \"type\": \"sqrt\"}, \"type\": \"quantitative\"}, \"x\": {\"field\": \"col\", \"sort\": {\"field\": \"Correlation\", \"order\": \"ascending\"}, \"title\": \"\", \"type\": \"nominal\"}, \"y\": {\"field\": \"row\", \"sort\": {\"field\": \"Correlation\", \"order\": \"ascending\"}, \"title\": \"\", \"type\": \"nominal\"}}, \"height\": 300, \"width\": 300, \"$schema\": \"https://vega.github.io/schema/vega-lite/v5.8.0.json\", \"datasets\": {\"data-6df4c2de989a084eb96e9107660fedba\": [{\"row\": \"Life Ladder\", \"col\": \"Life Ladder\", \"Correlation\": 1.0}, {\"row\": \"Log GDP per capita\", \"col\": \"Life Ladder\", \"Correlation\": 0.7848684422556058}, {\"row\": \"Social support\", \"col\": \"Life Ladder\", \"Correlation\": 0.7216623762237613}, {\"row\": \"Healthy life expectancy at birth\", \"col\": \"Life Ladder\", \"Correlation\": 0.7134994183705442}, {\"row\": \"Freedom to make life choices\", \"col\": \"Life Ladder\", \"Correlation\": 0.5344932276350371}, {\"row\": \"Generosity\", \"col\": \"Life Ladder\", \"Correlation\": 0.1816298194719003}, {\"row\": \"Perceptions of corruption\", \"col\": \"Life Ladder\", \"Correlation\": -0.4314996775304443}, {\"row\": \"Positive affect\", \"col\": \"Life Ladder\", \"Correlation\": 0.5181694884070236}, {\"row\": \"Negative affect\", \"col\": \"Life Ladder\", \"Correlation\": -0.3399688142411052}, {\"row\": \"Life Ladder\", \"col\": \"Log GDP per capita\", \"Correlation\": 0.7848684422556058}, {\"row\": \"Log GDP per capita\", \"col\": \"Log GDP per capita\", \"Correlation\": 1.0}, {\"row\": \"Social support\", \"col\": \"Log GDP per capita\", \"Correlation\": 0.6835898041883787}, {\"row\": \"Healthy life expectancy at birth\", \"col\": \"Log GDP per capita\", \"Correlation\": 0.8181260202092553}, {\"row\": \"Freedom to make life choices\", \"col\": \"Log GDP per capita\", \"Correlation\": 0.3675254874290146}, {\"row\": \"Generosity\", \"col\": \"Log GDP per capita\", \"Correlation\": -0.0008542433907344272}, {\"row\": \"Perceptions of corruption\", \"col\": \"Log GDP per capita\", \"Correlation\": -0.35284746448176163}, {\"row\": \"Positive affect\", \"col\": \"Log GDP per capita\", \"Correlation\": 0.23793316758887928}, {\"row\": \"Negative affect\", \"col\": \"Log GDP per capita\", \"Correlation\": -0.24754149246867932}, {\"row\": \"Life Ladder\", \"col\": \"Social support\", \"Correlation\": 0.7216623762237613}, {\"row\": \"Log GDP per capita\", \"col\": \"Social support\", \"Correlation\": 0.6835898041883787}, {\"row\": \"Social support\", \"col\": \"Social support\", \"Correlation\": 1.0}, {\"row\": \"Healthy life expectancy at birth\", \"col\": \"Social support\", \"Correlation\": 0.5976593027014782}, {\"row\": \"Freedom to make life choices\", \"col\": \"Social support\", \"Correlation\": 0.40932550459070766}, {\"row\": \"Generosity\", \"col\": \"Social support\", \"Correlation\": 0.06857197014114497}, {\"row\": \"Perceptions of corruption\", \"col\": \"Social support\", \"Correlation\": -0.22255115207600298}, {\"row\": \"Positive affect\", \"col\": \"Social support\", \"Correlation\": 0.4310376774706976}, {\"row\": \"Negative affect\", \"col\": \"Social support\", \"Correlation\": -0.44183691702406575}, {\"row\": \"Life Ladder\", \"col\": \"Healthy life expectancy at birth\", \"Correlation\": 0.7134994183705442}, {\"row\": \"Log GDP per capita\", \"col\": \"Healthy life expectancy at birth\", \"Correlation\": 0.8181260202092553}, {\"row\": \"Social support\", \"col\": \"Healthy life expectancy at birth\", \"Correlation\": 0.5976593027014782}, {\"row\": \"Healthy life expectancy at birth\", \"col\": \"Healthy life expectancy at birth\", \"Correlation\": 1.0}, {\"row\": \"Freedom to make life choices\", \"col\": \"Healthy life expectancy at birth\", \"Correlation\": 0.37346480723910797}, {\"row\": \"Generosity\", \"col\": \"Healthy life expectancy at birth\", \"Correlation\": 0.010775408897932808}, {\"row\": \"Perceptions of corruption\", \"col\": \"Healthy life expectancy at birth\", \"Correlation\": -0.29901606469933933}, {\"row\": \"Positive affect\", \"col\": \"Healthy life expectancy at birth\", \"Correlation\": 0.2230482407429064}, {\"row\": \"Negative affect\", \"col\": \"Healthy life expectancy at birth\", \"Correlation\": -0.1407003086978273}, {\"row\": \"Life Ladder\", \"col\": \"Freedom to make life choices\", \"Correlation\": 0.5344932276350371}, {\"row\": \"Log GDP per capita\", \"col\": \"Freedom to make life choices\", \"Correlation\": 0.3675254874290146}, {\"row\": \"Social support\", \"col\": \"Freedom to make life choices\", \"Correlation\": 0.40932550459070766}, {\"row\": \"Healthy life expectancy at birth\", \"col\": \"Freedom to make life choices\", \"Correlation\": 0.37346480723910797}, {\"row\": \"Freedom to make life choices\", \"col\": \"Freedom to make life choices\", \"Correlation\": 1.0}, {\"row\": \"Generosity\", \"col\": \"Freedom to make life choices\", \"Correlation\": 0.325029603324048}, {\"row\": \"Perceptions of corruption\", \"col\": \"Freedom to make life choices\", \"Correlation\": -0.4765165830405717}, {\"row\": \"Positive affect\", \"col\": \"Freedom to make life choices\", \"Correlation\": 0.5786800703581703}, {\"row\": \"Negative affect\", \"col\": \"Freedom to make life choices\", \"Correlation\": -0.27543839292007555}, {\"row\": \"Life Ladder\", \"col\": \"Generosity\", \"Correlation\": 0.1816298194719003}, {\"row\": \"Log GDP per capita\", \"col\": \"Generosity\", \"Correlation\": -0.0008542433907344272}, {\"row\": \"Social support\", \"col\": \"Generosity\", \"Correlation\": 0.06857197014114497}, {\"row\": \"Healthy life expectancy at birth\", \"col\": \"Generosity\", \"Correlation\": 0.010775408897932808}, {\"row\": \"Freedom to make life choices\", \"col\": \"Generosity\", \"Correlation\": 0.325029603324048}, {\"row\": \"Generosity\", \"col\": \"Generosity\", \"Correlation\": 1.0}, {\"row\": \"Perceptions of corruption\", \"col\": \"Generosity\", \"Correlation\": -0.2794350319499053}, {\"row\": \"Positive affect\", \"col\": \"Generosity\", \"Correlation\": 0.3070971651416623}, {\"row\": \"Negative affect\", \"col\": \"Generosity\", \"Correlation\": -0.08080094206342175}, {\"row\": \"Life Ladder\", \"col\": \"Perceptions of corruption\", \"Correlation\": -0.4314996775304443}, {\"row\": \"Log GDP per capita\", \"col\": \"Perceptions of corruption\", \"Correlation\": -0.35284746448176163}, {\"row\": \"Social support\", \"col\": \"Perceptions of corruption\", \"Correlation\": -0.22255115207600298}, {\"row\": \"Healthy life expectancy at birth\", \"col\": \"Perceptions of corruption\", \"Correlation\": -0.29901606469933933}, {\"row\": \"Freedom to make life choices\", \"col\": \"Perceptions of corruption\", \"Correlation\": -0.4765165830405717}, {\"row\": \"Generosity\", \"col\": \"Perceptions of corruption\", \"Correlation\": -0.2794350319499053}, {\"row\": \"Perceptions of corruption\", \"col\": \"Perceptions of corruption\", \"Correlation\": 1.0}, {\"row\": \"Positive affect\", \"col\": \"Perceptions of corruption\", \"Correlation\": -0.28060584309021536}, {\"row\": \"Negative affect\", \"col\": \"Perceptions of corruption\", \"Correlation\": 0.2662652237389884}, {\"row\": \"Life Ladder\", \"col\": \"Positive affect\", \"Correlation\": 0.5181694884070236}, {\"row\": \"Log GDP per capita\", \"col\": \"Positive affect\", \"Correlation\": 0.23793316758887928}, {\"row\": \"Social support\", \"col\": \"Positive affect\", \"Correlation\": 0.4310376774706976}, {\"row\": \"Healthy life expectancy at birth\", \"col\": \"Positive affect\", \"Correlation\": 0.2230482407429064}, {\"row\": \"Freedom to make life choices\", \"col\": \"Positive affect\", \"Correlation\": 0.5786800703581703}, {\"row\": \"Generosity\", \"col\": \"Positive affect\", \"Correlation\": 0.3070971651416623}, {\"row\": \"Perceptions of corruption\", \"col\": \"Positive affect\", \"Correlation\": -0.28060584309021536}, {\"row\": \"Positive affect\", \"col\": \"Positive affect\", \"Correlation\": 1.0}, {\"row\": \"Negative affect\", \"col\": \"Positive affect\", \"Correlation\": -0.3303010883026927}, {\"row\": \"Life Ladder\", \"col\": \"Negative affect\", \"Correlation\": -0.3399688142411052}, {\"row\": \"Log GDP per capita\", \"col\": \"Negative affect\", \"Correlation\": -0.24754149246867932}, {\"row\": \"Social support\", \"col\": \"Negative affect\", \"Correlation\": -0.44183691702406575}, {\"row\": \"Healthy life expectancy at birth\", \"col\": \"Negative affect\", \"Correlation\": -0.1407003086978273}, {\"row\": \"Freedom to make life choices\", \"col\": \"Negative affect\", \"Correlation\": -0.27543839292007555}, {\"row\": \"Generosity\", \"col\": \"Negative affect\", \"Correlation\": -0.08080094206342175}, {\"row\": \"Perceptions of corruption\", \"col\": \"Negative affect\", \"Correlation\": 0.2662652237389884}, {\"row\": \"Positive affect\", \"col\": \"Negative affect\", \"Correlation\": -0.3303010883026927}, {\"row\": \"Negative affect\", \"col\": \"Negative affect\", \"Correlation\": 1.0}]}}, {\"mode\": \"vega-lite\"});\n",
       "</script>"
      ],
      "text/plain": [
       "alt.Chart(...)"
      ]
     },
     "execution_count": 57,
     "metadata": {},
     "output_type": "execute_result"
    }
   ],
   "source": [
    "# Melting corr_mx\n",
    "corr_mx_long = corr_mx.reset_index().rename(\n",
    "    columns = {'index': 'row'}\n",
    ").melt(\n",
    "    id_vars = 'row',\n",
    "    var_name = 'col',\n",
    "    value_name = 'Correlation'\n",
    ")\n",
    "\n",
    "# Constructing heatmap\n",
    "alt.Chart(corr_mx_long).mark_rect().encode(\n",
    "    x = alt.X('col', title = '', sort = {'field': 'Correlation', 'order': 'ascending'}), \n",
    "    y = alt.Y('row', title = '', sort = {'field': 'Correlation', 'order': 'ascending'}),\n",
    "    color = alt.Color('Correlation', \n",
    "                      scale = alt.Scale(scheme = 'blueorange', # diverging gradient\n",
    "                                        domain = (-1, 1), # ensure white = 0\n",
    "                                        type = 'sqrt'), # adjust gradient scale\n",
    "                     legend = alt.Legend(tickCount = 5)) # add ticks to colorbar at 0.5 for reference\n",
    ").properties(width = 300, height = 300)"
   ]
  },
  {
   "cell_type": "markdown",
   "id": "367c21de-31de-4c15-a01d-7164c8b37f21",
   "metadata": {},
   "source": [
    "From this heat map we can see that the variables Log GDP per Capita, Social support, and Healthy life expectancy at birth are all strongly _positively_ correlated with countries' life ladder score. Likewise, we can see that Perceptions of corruption and Negative affect are strongly _negatively_ correlated with a country's life ladder score."
   ]
  },
  {
   "cell_type": "code",
   "execution_count": 23,
   "id": "e0c0981d-cd7d-4ca4-9170-9ce586995744",
   "metadata": {
    "tags": []
   },
   "outputs": [
    {
     "data": {
      "text/plain": [
       "0.10959527057753524"
      ]
     },
     "execution_count": 23,
     "metadata": {},
     "output_type": "execute_result"
    }
   ],
   "source": [
    "# Checking how many rows have missing values in our data set\n",
    "missing_values = x_mx.isnull()\n",
    "missing_values.any(axis=1).sum()/len(x_mx)"
   ]
  },
  {
   "cell_type": "markdown",
   "id": "085b1bc3-da25-4394-bf81-6a5cfd0bdb3a",
   "metadata": {},
   "source": [
    "In order to do principal component analysis, we cannot have any missing values in our dataset. However, as seen above, approximately 11% of our observations have one or more missing values. In order to deal with this missingness we decided to delete the rows containing missing values. We did not feel mean imputation was appropriate because variable values can differ so much between countries and/or regions. Thus, we did not think that substituting an overall mean of each variable to fill missing values was the correct course of action."
   ]
  },
  {
   "cell_type": "code",
   "execution_count": 30,
   "id": "d8826ab5-3de2-45da-bc7e-ae8abeaa5828",
   "metadata": {
    "tags": []
   },
   "outputs": [],
   "source": [
    "# Removing rows with missing values\n",
    "x_mx_nona = x_mx.dropna()"
   ]
  },
  {
   "cell_type": "code",
   "execution_count": 31,
   "id": "574cf8d8-9238-4469-829e-a5f23f3d3a14",
   "metadata": {
    "tags": []
   },
   "outputs": [],
   "source": [
    "pca = PCA(data = x_mx_nona, standardize = True) "
   ]
  },
  {
   "cell_type": "code",
   "execution_count": 33,
   "id": "2ec16dfe-64f3-4f3b-81e3-dfebe53654be",
   "metadata": {
    "tags": []
   },
   "outputs": [
    {
     "data": {
      "text/plain": [
       "0    0.468191\n",
       "1    0.168663\n",
       "2    0.104558\n",
       "3    0.083123\n",
       "4    0.069340\n",
       "5    0.040740\n",
       "6    0.030082\n",
       "7    0.020415\n",
       "8    0.014889\n",
       "Name: eigenvals, dtype: float64"
      ]
     },
     "execution_count": 33,
     "metadata": {},
     "output_type": "execute_result"
    }
   ],
   "source": [
    "# Computing variance ratios\n",
    "var_ratios = pca.eigenvals/pca.eigenvals.sum()\n",
    "var_ratios"
   ]
  },
  {
   "cell_type": "code",
   "execution_count": 58,
   "id": "9f3a6a04-a62c-4f4b-8389-e814b459f4fe",
   "metadata": {
    "tags": []
   },
   "outputs": [
    {
     "data": {
      "text/html": [
       "<div>\n",
       "<style scoped>\n",
       "    .dataframe tbody tr th:only-of-type {\n",
       "        vertical-align: middle;\n",
       "    }\n",
       "\n",
       "    .dataframe tbody tr th {\n",
       "        vertical-align: top;\n",
       "    }\n",
       "\n",
       "    .dataframe thead th {\n",
       "        text-align: right;\n",
       "    }\n",
       "</style>\n",
       "<table border=\"1\" class=\"dataframe\">\n",
       "  <thead>\n",
       "    <tr style=\"text-align: right;\">\n",
       "      <th></th>\n",
       "      <th>Component</th>\n",
       "      <th>Proportion of variance explained</th>\n",
       "      <th>Cumulative variance explained</th>\n",
       "    </tr>\n",
       "  </thead>\n",
       "  <tbody>\n",
       "    <tr>\n",
       "      <th>0</th>\n",
       "      <td>1</td>\n",
       "      <td>0.468191</td>\n",
       "      <td>0.468191</td>\n",
       "    </tr>\n",
       "    <tr>\n",
       "      <th>1</th>\n",
       "      <td>2</td>\n",
       "      <td>0.168663</td>\n",
       "      <td>0.636853</td>\n",
       "    </tr>\n",
       "    <tr>\n",
       "      <th>2</th>\n",
       "      <td>3</td>\n",
       "      <td>0.104558</td>\n",
       "      <td>0.741411</td>\n",
       "    </tr>\n",
       "    <tr>\n",
       "      <th>3</th>\n",
       "      <td>4</td>\n",
       "      <td>0.083123</td>\n",
       "      <td>0.824534</td>\n",
       "    </tr>\n",
       "    <tr>\n",
       "      <th>4</th>\n",
       "      <td>5</td>\n",
       "      <td>0.069340</td>\n",
       "      <td>0.893874</td>\n",
       "    </tr>\n",
       "    <tr>\n",
       "      <th>5</th>\n",
       "      <td>6</td>\n",
       "      <td>0.040740</td>\n",
       "      <td>0.934614</td>\n",
       "    </tr>\n",
       "    <tr>\n",
       "      <th>6</th>\n",
       "      <td>7</td>\n",
       "      <td>0.030082</td>\n",
       "      <td>0.964695</td>\n",
       "    </tr>\n",
       "    <tr>\n",
       "      <th>7</th>\n",
       "      <td>8</td>\n",
       "      <td>0.020415</td>\n",
       "      <td>0.985111</td>\n",
       "    </tr>\n",
       "    <tr>\n",
       "      <th>8</th>\n",
       "      <td>9</td>\n",
       "      <td>0.014889</td>\n",
       "      <td>1.000000</td>\n",
       "    </tr>\n",
       "  </tbody>\n",
       "</table>\n",
       "</div>"
      ],
      "text/plain": [
       "   Component  Proportion of variance explained  Cumulative variance explained\n",
       "0          1                          0.468191                       0.468191\n",
       "1          2                          0.168663                       0.636853\n",
       "2          3                          0.104558                       0.741411\n",
       "3          4                          0.083123                       0.824534\n",
       "4          5                          0.069340                       0.893874\n",
       "5          6                          0.040740                       0.934614\n",
       "6          7                          0.030082                       0.964695\n",
       "7          8                          0.020415                       0.985111\n",
       "8          9                          0.014889                       1.000000"
      ]
     },
     "execution_count": 58,
     "metadata": {},
     "output_type": "execute_result"
    }
   ],
   "source": [
    "# Creating dataframe with proportion of variance explained by each comonent and cumulative sum\n",
    "pca_var_explained = pd.DataFrame({\n",
    "    'Component': np.arange(1, 10),\n",
    "    'Proportion of variance explained': var_ratios})\n",
    "\n",
    "pca_var_explained['Cumulative variance explained'] = var_ratios.cumsum()\n",
    "\n",
    "pca_var_explained"
   ]
  },
  {
   "cell_type": "code",
   "execution_count": 40,
   "id": "1471035c-8de4-47df-83e4-2bf29501a249",
   "metadata": {
    "tags": []
   },
   "outputs": [
    {
     "data": {
      "text/html": [
       "\n",
       "<style>\n",
       "  #altair-viz-c938719ff0e043c69ada6f18ac274149.vega-embed {\n",
       "    width: 100%;\n",
       "    display: flex;\n",
       "  }\n",
       "\n",
       "  #altair-viz-c938719ff0e043c69ada6f18ac274149.vega-embed details,\n",
       "  #altair-viz-c938719ff0e043c69ada6f18ac274149.vega-embed details summary {\n",
       "    position: relative;\n",
       "  }\n",
       "</style>\n",
       "<div id=\"altair-viz-c938719ff0e043c69ada6f18ac274149\"></div>\n",
       "<script type=\"text/javascript\">\n",
       "  var VEGA_DEBUG = (typeof VEGA_DEBUG == \"undefined\") ? {} : VEGA_DEBUG;\n",
       "  (function(spec, embedOpt){\n",
       "    let outputDiv = document.currentScript.previousElementSibling;\n",
       "    if (outputDiv.id !== \"altair-viz-c938719ff0e043c69ada6f18ac274149\") {\n",
       "      outputDiv = document.getElementById(\"altair-viz-c938719ff0e043c69ada6f18ac274149\");\n",
       "    }\n",
       "    const paths = {\n",
       "      \"vega\": \"https://cdn.jsdelivr.net/npm/vega@5?noext\",\n",
       "      \"vega-lib\": \"https://cdn.jsdelivr.net/npm/vega-lib?noext\",\n",
       "      \"vega-lite\": \"https://cdn.jsdelivr.net/npm/vega-lite@5.8.0?noext\",\n",
       "      \"vega-embed\": \"https://cdn.jsdelivr.net/npm/vega-embed@6?noext\",\n",
       "    };\n",
       "\n",
       "    function maybeLoadScript(lib, version) {\n",
       "      var key = `${lib.replace(\"-\", \"\")}_version`;\n",
       "      return (VEGA_DEBUG[key] == version) ?\n",
       "        Promise.resolve(paths[lib]) :\n",
       "        new Promise(function(resolve, reject) {\n",
       "          var s = document.createElement('script');\n",
       "          document.getElementsByTagName(\"head\")[0].appendChild(s);\n",
       "          s.async = true;\n",
       "          s.onload = () => {\n",
       "            VEGA_DEBUG[key] = version;\n",
       "            return resolve(paths[lib]);\n",
       "          };\n",
       "          s.onerror = () => reject(`Error loading script: ${paths[lib]}`);\n",
       "          s.src = paths[lib];\n",
       "        });\n",
       "    }\n",
       "\n",
       "    function showError(err) {\n",
       "      outputDiv.innerHTML = `<div class=\"error\" style=\"color:red;\">${err}</div>`;\n",
       "      throw err;\n",
       "    }\n",
       "\n",
       "    function displayChart(vegaEmbed) {\n",
       "      vegaEmbed(outputDiv, spec, embedOpt)\n",
       "        .catch(err => showError(`Javascript Error: ${err.message}<br>This usually means there's a typo in your chart specification. See the javascript console for the full traceback.`));\n",
       "    }\n",
       "\n",
       "    if(typeof define === \"function\" && define.amd) {\n",
       "      requirejs.config({paths});\n",
       "      require([\"vega-embed\"], displayChart, err => showError(`Error loading script: ${err.message}`));\n",
       "    } else {\n",
       "      maybeLoadScript(\"vega\", \"5\")\n",
       "        .then(() => maybeLoadScript(\"vega-lite\", \"5.8.0\"))\n",
       "        .then(() => maybeLoadScript(\"vega-embed\", \"6\"))\n",
       "        .catch(showError)\n",
       "        .then(() => displayChart(vegaEmbed));\n",
       "    }\n",
       "  })({\"config\": {\"view\": {\"continuousWidth\": 300, \"continuousHeight\": 300}}, \"layer\": [{\"layer\": [{\"mark\": {\"type\": \"line\", \"stroke\": \"#57A44C\"}, \"encoding\": {\"x\": {\"field\": \"Component\", \"type\": \"quantitative\"}, \"y\": {\"axis\": {\"titleColor\": \"#57A44C\"}, \"field\": \"Proportion of variance explained\", \"type\": \"quantitative\"}}}, {\"mark\": {\"type\": \"point\", \"color\": \"#57A44C\"}, \"encoding\": {\"x\": {\"field\": \"Component\", \"type\": \"quantitative\"}, \"y\": {\"axis\": {\"titleColor\": \"#57A44C\"}, \"field\": \"Proportion of variance explained\", \"type\": \"quantitative\"}}}]}, {\"layer\": [{\"mark\": {\"type\": \"line\"}, \"encoding\": {\"x\": {\"field\": \"Component\", \"type\": \"quantitative\"}, \"y\": {\"axis\": {\"titleColor\": \"#5276A7\"}, \"field\": \"Cumulative variance explained\", \"type\": \"quantitative\"}}}, {\"mark\": {\"type\": \"point\"}, \"encoding\": {\"x\": {\"field\": \"Component\", \"type\": \"quantitative\"}, \"y\": {\"axis\": {\"titleColor\": \"#5276A7\"}, \"field\": \"Cumulative variance explained\", \"type\": \"quantitative\"}}}]}], \"data\": {\"name\": \"data-b476c4080d5d1e4a4fc2cfcae688c7d1\"}, \"resolve\": {\"scale\": {\"y\": \"independent\"}}, \"$schema\": \"https://vega.github.io/schema/vega-lite/v5.8.0.json\", \"datasets\": {\"data-b476c4080d5d1e4a4fc2cfcae688c7d1\": [{\"Component\": 1, \"Proportion of variance explained\": 0.46819061932817685, \"Cumulative variance explained\": 0.46819061932817685}, {\"Component\": 2, \"Proportion of variance explained\": 0.168662680854881, \"Cumulative variance explained\": 0.6368533001830579}, {\"Component\": 3, \"Proportion of variance explained\": 0.10455761956109924, \"Cumulative variance explained\": 0.7414109197441571}, {\"Component\": 4, \"Proportion of variance explained\": 0.08312267178374806, \"Cumulative variance explained\": 0.8245335915279052}, {\"Component\": 5, \"Proportion of variance explained\": 0.06934023871022386, \"Cumulative variance explained\": 0.893873830238129}, {\"Component\": 6, \"Proportion of variance explained\": 0.04073972547229347, \"Cumulative variance explained\": 0.9346135557104225}, {\"Component\": 7, \"Proportion of variance explained\": 0.030081851600838327, \"Cumulative variance explained\": 0.9646954073112608}, {\"Component\": 8, \"Proportion of variance explained\": 0.020415394773288093, \"Cumulative variance explained\": 0.9851108020845489}, {\"Component\": 9, \"Proportion of variance explained\": 0.014889197915451208, \"Cumulative variance explained\": 1.0000000000000002}]}}, {\"mode\": \"vega-lite\"});\n",
       "</script>"
      ],
      "text/plain": [
       "alt.LayerChart(...)"
      ]
     },
     "execution_count": 40,
     "metadata": {},
     "output_type": "execute_result"
    }
   ],
   "source": [
    "# Plotting variance explained by each component and cumulitave variance\n",
    "base = alt.Chart(pca_var_explained).encode(\n",
    "    x = 'Component')\n",
    "\n",
    "prop_var_base = base.encode(\n",
    "    y = alt.Y('Proportion of variance explained',\n",
    "              axis = alt.Axis(titleColor = '#57A44C'))\n",
    ")\n",
    "\n",
    "cum_var_base = base.encode(\n",
    "    y = alt.Y('Cumulative variance explained', axis = alt.Axis(titleColor = '#5276A7'))\n",
    ")\n",
    "\n",
    "prop_var = prop_var_base.mark_line(stroke = '#57A44C') + prop_var_base.mark_point(color = '#57A44C')\n",
    "cum_var = cum_var_base.mark_line() + cum_var_base.mark_point()\n",
    "\n",
    "var_explained_plot = alt.layer(prop_var, cum_var).resolve_scale(y = 'independent')\n",
    "\n",
    "# display\n",
    "var_explained_plot"
   ]
  },
  {
   "cell_type": "markdown",
   "id": "9bc87110-91b1-4b19-a574-3ceee6f62549",
   "metadata": {},
   "source": [
    "From this graph, we decided to use 4 principal componenets as over 80% of total variance can be explained by these 4 componenets."
   ]
  },
  {
   "cell_type": "code",
   "execution_count": 56,
   "id": "75993d14-c8d8-4c32-84eb-0c08003363b8",
   "metadata": {
    "tags": []
   },
   "outputs": [
    {
     "data": {
      "text/html": [
       "<div>\n",
       "<style scoped>\n",
       "    .dataframe tbody tr th:only-of-type {\n",
       "        vertical-align: middle;\n",
       "    }\n",
       "\n",
       "    .dataframe tbody tr th {\n",
       "        vertical-align: top;\n",
       "    }\n",
       "\n",
       "    .dataframe thead th {\n",
       "        text-align: right;\n",
       "    }\n",
       "</style>\n",
       "<table border=\"1\" class=\"dataframe\">\n",
       "  <thead>\n",
       "    <tr style=\"text-align: right;\">\n",
       "      <th></th>\n",
       "      <th>PC1</th>\n",
       "      <th>PC2</th>\n",
       "      <th>PC3</th>\n",
       "      <th>PC4</th>\n",
       "    </tr>\n",
       "  </thead>\n",
       "  <tbody>\n",
       "    <tr>\n",
       "      <th>Life Ladder</th>\n",
       "      <td>0.443544</td>\n",
       "      <td>-0.107710</td>\n",
       "      <td>0.076934</td>\n",
       "      <td>-0.074852</td>\n",
       "    </tr>\n",
       "    <tr>\n",
       "      <th>Log GDP per capita</th>\n",
       "      <td>0.397397</td>\n",
       "      <td>-0.375113</td>\n",
       "      <td>0.138024</td>\n",
       "      <td>0.058534</td>\n",
       "    </tr>\n",
       "    <tr>\n",
       "      <th>Social support</th>\n",
       "      <td>0.393455</td>\n",
       "      <td>-0.189181</td>\n",
       "      <td>-0.271101</td>\n",
       "      <td>-0.212935</td>\n",
       "    </tr>\n",
       "    <tr>\n",
       "      <th>Healthy life expectancy at birth</th>\n",
       "      <td>0.372133</td>\n",
       "      <td>-0.365084</td>\n",
       "      <td>0.287211</td>\n",
       "      <td>-0.035678</td>\n",
       "    </tr>\n",
       "    <tr>\n",
       "      <th>Freedom to make life choices</th>\n",
       "      <td>0.337298</td>\n",
       "      <td>0.338298</td>\n",
       "      <td>0.111823</td>\n",
       "      <td>-0.088597</td>\n",
       "    </tr>\n",
       "    <tr>\n",
       "      <th>Generosity</th>\n",
       "      <td>0.122678</td>\n",
       "      <td>0.568857</td>\n",
       "      <td>0.324524</td>\n",
       "      <td>-0.142566</td>\n",
       "    </tr>\n",
       "    <tr>\n",
       "      <th>Perceptions of corruption</th>\n",
       "      <td>-0.277184</td>\n",
       "      <td>-0.269913</td>\n",
       "      <td>-0.268638</td>\n",
       "      <td>-0.746495</td>\n",
       "    </tr>\n",
       "    <tr>\n",
       "      <th>Positive affect</th>\n",
       "      <td>0.300972</td>\n",
       "      <td>0.386196</td>\n",
       "      <td>-0.198559</td>\n",
       "      <td>-0.468106</td>\n",
       "    </tr>\n",
       "    <tr>\n",
       "      <th>Negative affect</th>\n",
       "      <td>-0.236262</td>\n",
       "      <td>-0.136264</td>\n",
       "      <td>0.767875</td>\n",
       "      <td>-0.373903</td>\n",
       "    </tr>\n",
       "  </tbody>\n",
       "</table>\n",
       "</div>"
      ],
      "text/plain": [
       "                                       PC1       PC2       PC3       PC4\n",
       "Life Ladder                       0.443544 -0.107710  0.076934 -0.074852\n",
       "Log GDP per capita                0.397397 -0.375113  0.138024  0.058534\n",
       "Social support                    0.393455 -0.189181 -0.271101 -0.212935\n",
       "Healthy life expectancy at birth  0.372133 -0.365084  0.287211 -0.035678\n",
       "Freedom to make life choices      0.337298  0.338298  0.111823 -0.088597\n",
       "Generosity                        0.122678  0.568857  0.324524 -0.142566\n",
       "Perceptions of corruption        -0.277184 -0.269913 -0.268638 -0.746495\n",
       "Positive affect                   0.300972  0.386196 -0.198559 -0.468106\n",
       "Negative affect                  -0.236262 -0.136264  0.767875 -0.373903"
      ]
     },
     "execution_count": 56,
     "metadata": {},
     "output_type": "execute_result"
    }
   ],
   "source": [
    "# Subsetting only the 4 component loadings that we chose\n",
    "loading_df = pca.loadings.iloc[:, 0:4]\n",
    "loading_df = loading_df.rename(columns = dict(zip(loading_df.columns, ['PC' + str(i) for i in range(1, 4 + 1)])))\n",
    "loading_df"
   ]
  },
  {
   "cell_type": "code",
   "execution_count": 62,
   "id": "e52563ad-5b10-433b-a51a-baae56529c1b",
   "metadata": {
    "tags": []
   },
   "outputs": [
    {
     "data": {
      "text/html": [
       "\n",
       "<style>\n",
       "  #altair-viz-e6b9dd5ca2824653b75faecb2123b957.vega-embed {\n",
       "    width: 100%;\n",
       "    display: flex;\n",
       "  }\n",
       "\n",
       "  #altair-viz-e6b9dd5ca2824653b75faecb2123b957.vega-embed details,\n",
       "  #altair-viz-e6b9dd5ca2824653b75faecb2123b957.vega-embed details summary {\n",
       "    position: relative;\n",
       "  }\n",
       "</style>\n",
       "<div id=\"altair-viz-e6b9dd5ca2824653b75faecb2123b957\"></div>\n",
       "<script type=\"text/javascript\">\n",
       "  var VEGA_DEBUG = (typeof VEGA_DEBUG == \"undefined\") ? {} : VEGA_DEBUG;\n",
       "  (function(spec, embedOpt){\n",
       "    let outputDiv = document.currentScript.previousElementSibling;\n",
       "    if (outputDiv.id !== \"altair-viz-e6b9dd5ca2824653b75faecb2123b957\") {\n",
       "      outputDiv = document.getElementById(\"altair-viz-e6b9dd5ca2824653b75faecb2123b957\");\n",
       "    }\n",
       "    const paths = {\n",
       "      \"vega\": \"https://cdn.jsdelivr.net/npm/vega@5?noext\",\n",
       "      \"vega-lib\": \"https://cdn.jsdelivr.net/npm/vega-lib?noext\",\n",
       "      \"vega-lite\": \"https://cdn.jsdelivr.net/npm/vega-lite@5.8.0?noext\",\n",
       "      \"vega-embed\": \"https://cdn.jsdelivr.net/npm/vega-embed@6?noext\",\n",
       "    };\n",
       "\n",
       "    function maybeLoadScript(lib, version) {\n",
       "      var key = `${lib.replace(\"-\", \"\")}_version`;\n",
       "      return (VEGA_DEBUG[key] == version) ?\n",
       "        Promise.resolve(paths[lib]) :\n",
       "        new Promise(function(resolve, reject) {\n",
       "          var s = document.createElement('script');\n",
       "          document.getElementsByTagName(\"head\")[0].appendChild(s);\n",
       "          s.async = true;\n",
       "          s.onload = () => {\n",
       "            VEGA_DEBUG[key] = version;\n",
       "            return resolve(paths[lib]);\n",
       "          };\n",
       "          s.onerror = () => reject(`Error loading script: ${paths[lib]}`);\n",
       "          s.src = paths[lib];\n",
       "        });\n",
       "    }\n",
       "\n",
       "    function showError(err) {\n",
       "      outputDiv.innerHTML = `<div class=\"error\" style=\"color:red;\">${err}</div>`;\n",
       "      throw err;\n",
       "    }\n",
       "\n",
       "    function displayChart(vegaEmbed) {\n",
       "      vegaEmbed(outputDiv, spec, embedOpt)\n",
       "        .catch(err => showError(`Javascript Error: ${err.message}<br>This usually means there's a typo in your chart specification. See the javascript console for the full traceback.`));\n",
       "    }\n",
       "\n",
       "    if(typeof define === \"function\" && define.amd) {\n",
       "      requirejs.config({paths});\n",
       "      require([\"vega-embed\"], displayChart, err => showError(`Error loading script: ${err.message}`));\n",
       "    } else {\n",
       "      maybeLoadScript(\"vega\", \"5\")\n",
       "        .then(() => maybeLoadScript(\"vega-lite\", \"5.8.0\"))\n",
       "        .then(() => maybeLoadScript(\"vega-embed\", \"6\"))\n",
       "        .catch(showError)\n",
       "        .then(() => displayChart(vegaEmbed));\n",
       "    }\n",
       "  })({\"config\": {\"view\": {\"continuousWidth\": 300, \"continuousHeight\": 300}}, \"data\": {\"name\": \"data-84cf0b238e435246dfe4c8bcb994e7a3\"}, \"facet\": {\"column\": {\"field\": \"Principal Component\", \"title\": \"\", \"type\": \"nominal\"}}, \"spec\": {\"layer\": [{\"mark\": {\"type\": \"line\", \"point\": true}, \"encoding\": {\"color\": {\"field\": \"Principal Component\", \"type\": \"nominal\"}, \"x\": {\"field\": \"Loading\", \"type\": \"quantitative\"}, \"y\": {\"field\": \"Variable\", \"title\": \"\", \"type\": \"nominal\"}}}, {\"mark\": {\"type\": \"rule\"}, \"encoding\": {\"size\": {\"value\": 0.05}, \"x\": {\"field\": \"zero\", \"title\": \"Loading\", \"type\": \"quantitative\"}}}], \"width\": 90}, \"$schema\": \"https://vega.github.io/schema/vega-lite/v5.8.0.json\", \"datasets\": {\"data-84cf0b238e435246dfe4c8bcb994e7a3\": [{\"Variable\": \"Life Ladder\", \"Principal Component\": \"PC1\", \"Loading\": 0.44354355694472636, \"zero\": 0}, {\"Variable\": \"Log GDP per capita\", \"Principal Component\": \"PC1\", \"Loading\": 0.3973973316428073, \"zero\": 0}, {\"Variable\": \"Social support\", \"Principal Component\": \"PC1\", \"Loading\": 0.3934546790294256, \"zero\": 0}, {\"Variable\": \"Healthy life expectancy at birth\", \"Principal Component\": \"PC1\", \"Loading\": 0.3721330131354478, \"zero\": 0}, {\"Variable\": \"Freedom to make life choices\", \"Principal Component\": \"PC1\", \"Loading\": 0.3372979146670195, \"zero\": 0}, {\"Variable\": \"Generosity\", \"Principal Component\": \"PC1\", \"Loading\": 0.12267758401775104, \"zero\": 0}, {\"Variable\": \"Perceptions of corruption\", \"Principal Component\": \"PC1\", \"Loading\": -0.27718415616129727, \"zero\": 0}, {\"Variable\": \"Positive affect\", \"Principal Component\": \"PC1\", \"Loading\": 0.30097212285110386, \"zero\": 0}, {\"Variable\": \"Negative affect\", \"Principal Component\": \"PC1\", \"Loading\": -0.23626248530199997, \"zero\": 0}, {\"Variable\": \"Life Ladder\", \"Principal Component\": \"PC2\", \"Loading\": -0.10770994844144913, \"zero\": 0}, {\"Variable\": \"Log GDP per capita\", \"Principal Component\": \"PC2\", \"Loading\": -0.37511312683881637, \"zero\": 0}, {\"Variable\": \"Social support\", \"Principal Component\": \"PC2\", \"Loading\": -0.18918120543732303, \"zero\": 0}, {\"Variable\": \"Healthy life expectancy at birth\", \"Principal Component\": \"PC2\", \"Loading\": -0.36508435356698143, \"zero\": 0}, {\"Variable\": \"Freedom to make life choices\", \"Principal Component\": \"PC2\", \"Loading\": 0.33829791592933606, \"zero\": 0}, {\"Variable\": \"Generosity\", \"Principal Component\": \"PC2\", \"Loading\": 0.568857398266087, \"zero\": 0}, {\"Variable\": \"Perceptions of corruption\", \"Principal Component\": \"PC2\", \"Loading\": -0.2699132155496824, \"zero\": 0}, {\"Variable\": \"Positive affect\", \"Principal Component\": \"PC2\", \"Loading\": 0.3861960651049426, \"zero\": 0}, {\"Variable\": \"Negative affect\", \"Principal Component\": \"PC2\", \"Loading\": -0.13626382959062378, \"zero\": 0}, {\"Variable\": \"Life Ladder\", \"Principal Component\": \"PC3\", \"Loading\": 0.0769344651267341, \"zero\": 0}, {\"Variable\": \"Log GDP per capita\", \"Principal Component\": \"PC3\", \"Loading\": 0.13802392216007878, \"zero\": 0}, {\"Variable\": \"Social support\", \"Principal Component\": \"PC3\", \"Loading\": -0.2711008570148261, \"zero\": 0}, {\"Variable\": \"Healthy life expectancy at birth\", \"Principal Component\": \"PC3\", \"Loading\": 0.28721114465218645, \"zero\": 0}, {\"Variable\": \"Freedom to make life choices\", \"Principal Component\": \"PC3\", \"Loading\": 0.11182293308680805, \"zero\": 0}, {\"Variable\": \"Generosity\", \"Principal Component\": \"PC3\", \"Loading\": 0.32452438610570755, \"zero\": 0}, {\"Variable\": \"Perceptions of corruption\", \"Principal Component\": \"PC3\", \"Loading\": -0.26863833608196164, \"zero\": 0}, {\"Variable\": \"Positive affect\", \"Principal Component\": \"PC3\", \"Loading\": -0.1985590519898555, \"zero\": 0}, {\"Variable\": \"Negative affect\", \"Principal Component\": \"PC3\", \"Loading\": 0.7678749054495798, \"zero\": 0}, {\"Variable\": \"Life Ladder\", \"Principal Component\": \"PC4\", \"Loading\": -0.07485202557229984, \"zero\": 0}, {\"Variable\": \"Log GDP per capita\", \"Principal Component\": \"PC4\", \"Loading\": 0.05853416755759735, \"zero\": 0}, {\"Variable\": \"Social support\", \"Principal Component\": \"PC4\", \"Loading\": -0.21293499149231787, \"zero\": 0}, {\"Variable\": \"Healthy life expectancy at birth\", \"Principal Component\": \"PC4\", \"Loading\": -0.03567779566875355, \"zero\": 0}, {\"Variable\": \"Freedom to make life choices\", \"Principal Component\": \"PC4\", \"Loading\": -0.08859675168463772, \"zero\": 0}, {\"Variable\": \"Generosity\", \"Principal Component\": \"PC4\", \"Loading\": -0.14256596535531052, \"zero\": 0}, {\"Variable\": \"Perceptions of corruption\", \"Principal Component\": \"PC4\", \"Loading\": -0.7464953714006693, \"zero\": 0}, {\"Variable\": \"Positive affect\", \"Principal Component\": \"PC4\", \"Loading\": -0.46810608467784115, \"zero\": 0}, {\"Variable\": \"Negative affect\", \"Principal Component\": \"PC4\", \"Loading\": -0.37390322928352215, \"zero\": 0}]}}, {\"mode\": \"vega-lite\"});\n",
       "</script>"
      ],
      "text/plain": [
       "alt.FacetChart(...)"
      ]
     },
     "execution_count": 62,
     "metadata": {},
     "output_type": "execute_result"
    }
   ],
   "source": [
    "# Plotting each principal component's loadings\n",
    "loading_plot_df = loading_df.reset_index().melt(\n",
    "    id_vars = 'index',\n",
    "    var_name = 'Principal Component',\n",
    "    value_name = 'Loading'\n",
    ").rename(columns = {'index': 'Variable'})\n",
    "\n",
    "loading_plot_df['zero'] = np.repeat(0, len(loading_plot_df))\n",
    "\n",
    "base = alt.Chart(loading_plot_df)\n",
    "\n",
    "loadings = base.mark_line(point = True).encode(\n",
    "    y = alt.Y('Variable', title = ''),\n",
    "    x = 'Loading',\n",
    "    color = 'Principal Component'\n",
    ")\n",
    "\n",
    "rule = base.mark_rule().encode(x = alt.X('zero', title = 'Loading'), size = alt.value(0.05))\n",
    "\n",
    "loading_plot = (loadings + rule).properties(width = 90)\n",
    "\n",
    "loading_plot.facet(column = alt.Column('Principal Component', title = ''))"
   ]
  },
  {
   "cell_type": "markdown",
   "id": "02e9a8af-12d0-415c-85ff-ada0aabd1be8",
   "metadata": {},
   "source": [
    "Within a principal component, the variables with the largest loadings/weights (in terms of absolute value) are the ones that are most influential to that component. And since these componenets together capture over 80% of the total variation in the data, the heaviest weighted variables in each componenet are the ones that drive variation in our data."
   ]
  },
  {
   "cell_type": "markdown",
   "id": "4154ecba-0ec1-4936-a153-64f49dbaa576",
   "metadata": {},
   "source": [
    "We interpreted the first principal component (PC1) as a representation of the difference between well-being and danger. This is because, in PC1, the variables that are most influential are: Life ladder(positive), Log GDP per capita (positive), Social support (positive), Perceptions of corruption (negative), and Negative affect (negative). This means that a country with a larger value of PC1 would have a higher than average life ladder score, log GDP per capita, and social support while also having a lower than average perception of corruption and negative affect score. Likewise, a country with a smaller value of PC1 would have a lower than average life ladder score, log GDP per capita, and social support while also having a higher than average perception of corruption and negative affect score. "
   ]
  },
  {
   "cell_type": "markdown",
   "id": "b38900c3-fa2b-402d-bb18-e488872c519f",
   "metadata": {},
   "source": [
    "Next, we interpreted the second principal component (PC2) as a reprentation of the difference between people's willingness to help others and a country's overall wealth. This is because, in PC2, the variables that are most influential are: Generosity (positive), Positive affect (positive), Log GDP per capita (negative), and Healthy life expectancy at birth (negative). This means that a country with a larger value of PC2 would have a higher than average Generosity score and Positive affect score while also having a lower than average Log GDP per capita and Healthy life expectancy at birth. Likewise, a country with a smaller value of PC2 would have a lower than average Generosity score and Positive affect score while also having a higher than average Log GDP per capita and Healthy life expectancy at birth."
   ]
  },
  {
   "cell_type": "markdown",
   "id": "082873a1-b8c4-431f-97cd-0100cf3332ff",
   "metadata": {},
   "source": [
    "Then, we interpreted the third principal component (PC3) as a representaion of the average between people's generosity and negative feelings. This is because, in PC3, the variables that are most influential are Negative affect (positive) and Generosity (positive). This means that a country with a larger value of PC3 would have a higher than average Negative affect score and Generosity score. Likewise, a country with a smaller value of PC3 would have a lower than average  Negative affect score and Generosity score."
   ]
  },
  {
   "cell_type": "markdown",
   "id": "637186cc-1bba-4252-bd5e-a0a4a75cbc09",
   "metadata": {},
   "source": [
    "Finally, we interpreted the fourth principal component (PC4) as a representation of the average between people's perceptions of corruption, positive feelings, and negative feelings. This is because, in PC4, the variables that are most influential are Perceptions of corruption (negative), Positive affect (negative), and Negative affect (negative). This means that a country with a larger value of PC4 would have a higher than average Perception of corruption, Positive affect score, and Negative affect score. Likewise, a country with a smaller value of PC4 would have a lower than average Perception of corruption, Positive affect score, and Negative affect score."
   ]
  },
  {
   "cell_type": "markdown",
   "id": "d6b678c5-2bdb-43b9-87b7-f6d8c85ea37c",
   "metadata": {},
   "source": [
    "_So, from this principal componenet analysis we have determined that the variables that drive the most variation in our data are Life Ladder, Log GDP per capita, Social support, Generosity, Negative affect, and Perceptions of corruption._"
   ]
  },
  {
   "cell_type": "markdown",
   "id": "0cc97a58-c382-43dd-b581-e16491a55c37",
   "metadata": {},
   "source": [
    "## Summary of findings"
   ]
  },
  {
   "cell_type": "markdown",
   "id": "1f164ddf-a39b-4e14-8c8b-8944e0d9e35c",
   "metadata": {},
   "source": [
    "Throughout this project we have found that there has been a slight increase in overall happiness in the world. [INSERT BREAKDOWN BY COUNTRY/REGION HERE IF YOU WANT]. We also found that the variables that drove the variation in our data were: Life Ladder, Log GDP per capita, Social support, Generosity, Negative affect, and Perceptions of corruption. [INSERT ANY OTHER FINDINGS FROM REGRESSION HERE]"
   ]
  }
 ],
 "metadata": {
  "kernelspec": {
   "display_name": "Python 3 (ipykernel)",
   "language": "python",
   "name": "python3"
  },
  "language_info": {
   "codemirror_mode": {
    "name": "ipython",
    "version": 3
   },
   "file_extension": ".py",
   "mimetype": "text/x-python",
   "name": "python",
   "nbconvert_exporter": "python",
   "pygments_lexer": "ipython3",
   "version": "3.10.9"
  }
 },
 "nbformat": 4,
 "nbformat_minor": 5
}
